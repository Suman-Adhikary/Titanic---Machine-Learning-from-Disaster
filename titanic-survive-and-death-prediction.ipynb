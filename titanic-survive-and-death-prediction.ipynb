{
 "cells": [
  {
   "cell_type": "code",
   "execution_count": 1,
   "id": "0d3576e7",
   "metadata": {
    "_cell_guid": "b1076dfc-b9ad-4769-8c92-a6c4dae69d19",
    "_uuid": "8f2839f25d086af736a60e9eeb907d3b93b6e0e5",
    "execution": {
     "iopub.execute_input": "2022-11-03T15:16:03.059558Z",
     "iopub.status.busy": "2022-11-03T15:16:03.058946Z",
     "iopub.status.idle": "2022-11-03T15:16:03.076331Z",
     "shell.execute_reply": "2022-11-03T15:16:03.075142Z"
    },
    "papermill": {
     "duration": 0.036244,
     "end_time": "2022-11-03T15:16:03.079232",
     "exception": false,
     "start_time": "2022-11-03T15:16:03.042988",
     "status": "completed"
    },
    "tags": []
   },
   "outputs": [
    {
     "name": "stdout",
     "output_type": "stream",
     "text": [
      "/kaggle/input/titanic/train.csv\n",
      "/kaggle/input/titanic/test.csv\n",
      "/kaggle/input/titanic/gender_submission.csv\n"
     ]
    }
   ],
   "source": [
    "# This Python 3 environment comes with many helpful analytics libraries installed\n",
    "# It is defined by the kaggle/python Docker image: https://github.com/kaggle/docker-python\n",
    "# For example, here's several helpful packages to load\n",
    "\n",
    "import numpy as np # linear algebra\n",
    "import pandas as pd # data processing, CSV file I/O (e.g. pd.read_csv)\n",
    "\n",
    "# Input data files are available in the read-only \"../input/\" directory\n",
    "# For example, running this (by clicking run or pressing Shift+Enter) will list all files under the input directory\n",
    "\n",
    "import os\n",
    "for dirname, _, filenames in os.walk('/kaggle/input'):\n",
    "    for filename in filenames:\n",
    "        print(os.path.join(dirname, filename))\n",
    "\n",
    "# You can write up to 20GB to the current directory (/kaggle/working/) that gets preserved as output when you create a version using \"Save & Run All\" \n",
    "# You can also write temporary files to /kaggle/temp/, but they won't be saved outside of the current session"
   ]
  },
  {
   "cell_type": "markdown",
   "id": "dffea5c1",
   "metadata": {
    "papermill": {
     "duration": 0.011443,
     "end_time": "2022-11-03T15:16:03.102747",
     "exception": false,
     "start_time": "2022-11-03T15:16:03.091304",
     "status": "completed"
    },
    "tags": []
   },
   "source": [
    "> # **Read Dataset**"
   ]
  },
  {
   "cell_type": "code",
   "execution_count": 2,
   "id": "924f8b47",
   "metadata": {
    "execution": {
     "iopub.execute_input": "2022-11-03T15:16:03.128933Z",
     "iopub.status.busy": "2022-11-03T15:16:03.128150Z",
     "iopub.status.idle": "2022-11-03T15:16:03.181880Z",
     "shell.execute_reply": "2022-11-03T15:16:03.180371Z"
    },
    "papermill": {
     "duration": 0.071689,
     "end_time": "2022-11-03T15:16:03.186122",
     "exception": false,
     "start_time": "2022-11-03T15:16:03.114433",
     "status": "completed"
    },
    "tags": []
   },
   "outputs": [
    {
     "data": {
      "text/html": [
       "<div>\n",
       "<style scoped>\n",
       "    .dataframe tbody tr th:only-of-type {\n",
       "        vertical-align: middle;\n",
       "    }\n",
       "\n",
       "    .dataframe tbody tr th {\n",
       "        vertical-align: top;\n",
       "    }\n",
       "\n",
       "    .dataframe thead th {\n",
       "        text-align: right;\n",
       "    }\n",
       "</style>\n",
       "<table border=\"1\" class=\"dataframe\">\n",
       "  <thead>\n",
       "    <tr style=\"text-align: right;\">\n",
       "      <th></th>\n",
       "      <th>PassengerId</th>\n",
       "      <th>Survived</th>\n",
       "      <th>Pclass</th>\n",
       "      <th>Name</th>\n",
       "      <th>Sex</th>\n",
       "      <th>Age</th>\n",
       "      <th>SibSp</th>\n",
       "      <th>Parch</th>\n",
       "      <th>Ticket</th>\n",
       "      <th>Fare</th>\n",
       "      <th>Cabin</th>\n",
       "      <th>Embarked</th>\n",
       "    </tr>\n",
       "  </thead>\n",
       "  <tbody>\n",
       "    <tr>\n",
       "      <th>0</th>\n",
       "      <td>1</td>\n",
       "      <td>0</td>\n",
       "      <td>3</td>\n",
       "      <td>Braund, Mr. Owen Harris</td>\n",
       "      <td>male</td>\n",
       "      <td>22.0</td>\n",
       "      <td>1</td>\n",
       "      <td>0</td>\n",
       "      <td>A/5 21171</td>\n",
       "      <td>7.2500</td>\n",
       "      <td>NaN</td>\n",
       "      <td>S</td>\n",
       "    </tr>\n",
       "    <tr>\n",
       "      <th>1</th>\n",
       "      <td>2</td>\n",
       "      <td>1</td>\n",
       "      <td>1</td>\n",
       "      <td>Cumings, Mrs. John Bradley (Florence Briggs Th...</td>\n",
       "      <td>female</td>\n",
       "      <td>38.0</td>\n",
       "      <td>1</td>\n",
       "      <td>0</td>\n",
       "      <td>PC 17599</td>\n",
       "      <td>71.2833</td>\n",
       "      <td>C85</td>\n",
       "      <td>C</td>\n",
       "    </tr>\n",
       "    <tr>\n",
       "      <th>2</th>\n",
       "      <td>3</td>\n",
       "      <td>1</td>\n",
       "      <td>3</td>\n",
       "      <td>Heikkinen, Miss. Laina</td>\n",
       "      <td>female</td>\n",
       "      <td>26.0</td>\n",
       "      <td>0</td>\n",
       "      <td>0</td>\n",
       "      <td>STON/O2. 3101282</td>\n",
       "      <td>7.9250</td>\n",
       "      <td>NaN</td>\n",
       "      <td>S</td>\n",
       "    </tr>\n",
       "    <tr>\n",
       "      <th>3</th>\n",
       "      <td>4</td>\n",
       "      <td>1</td>\n",
       "      <td>1</td>\n",
       "      <td>Futrelle, Mrs. Jacques Heath (Lily May Peel)</td>\n",
       "      <td>female</td>\n",
       "      <td>35.0</td>\n",
       "      <td>1</td>\n",
       "      <td>0</td>\n",
       "      <td>113803</td>\n",
       "      <td>53.1000</td>\n",
       "      <td>C123</td>\n",
       "      <td>S</td>\n",
       "    </tr>\n",
       "    <tr>\n",
       "      <th>4</th>\n",
       "      <td>5</td>\n",
       "      <td>0</td>\n",
       "      <td>3</td>\n",
       "      <td>Allen, Mr. William Henry</td>\n",
       "      <td>male</td>\n",
       "      <td>35.0</td>\n",
       "      <td>0</td>\n",
       "      <td>0</td>\n",
       "      <td>373450</td>\n",
       "      <td>8.0500</td>\n",
       "      <td>NaN</td>\n",
       "      <td>S</td>\n",
       "    </tr>\n",
       "  </tbody>\n",
       "</table>\n",
       "</div>"
      ],
      "text/plain": [
       "   PassengerId  Survived  Pclass  \\\n",
       "0            1         0       3   \n",
       "1            2         1       1   \n",
       "2            3         1       3   \n",
       "3            4         1       1   \n",
       "4            5         0       3   \n",
       "\n",
       "                                                Name     Sex   Age  SibSp  \\\n",
       "0                            Braund, Mr. Owen Harris    male  22.0      1   \n",
       "1  Cumings, Mrs. John Bradley (Florence Briggs Th...  female  38.0      1   \n",
       "2                             Heikkinen, Miss. Laina  female  26.0      0   \n",
       "3       Futrelle, Mrs. Jacques Heath (Lily May Peel)  female  35.0      1   \n",
       "4                           Allen, Mr. William Henry    male  35.0      0   \n",
       "\n",
       "   Parch            Ticket     Fare Cabin Embarked  \n",
       "0      0         A/5 21171   7.2500   NaN        S  \n",
       "1      0          PC 17599  71.2833   C85        C  \n",
       "2      0  STON/O2. 3101282   7.9250   NaN        S  \n",
       "3      0            113803  53.1000  C123        S  \n",
       "4      0            373450   8.0500   NaN        S  "
      ]
     },
     "execution_count": 2,
     "metadata": {},
     "output_type": "execute_result"
    }
   ],
   "source": [
    "train_data = pd.read_csv('/kaggle/input/titanic/train.csv')\n",
    "train_data.head()"
   ]
  },
  {
   "cell_type": "code",
   "execution_count": 3,
   "id": "3fb3c4d8",
   "metadata": {
    "execution": {
     "iopub.execute_input": "2022-11-03T15:16:03.216150Z",
     "iopub.status.busy": "2022-11-03T15:16:03.215711Z",
     "iopub.status.idle": "2022-11-03T15:16:03.224492Z",
     "shell.execute_reply": "2022-11-03T15:16:03.223191Z"
    },
    "papermill": {
     "duration": 0.025317,
     "end_time": "2022-11-03T15:16:03.226915",
     "exception": false,
     "start_time": "2022-11-03T15:16:03.201598",
     "status": "completed"
    },
    "tags": []
   },
   "outputs": [
    {
     "data": {
      "text/plain": [
       "(891, 12)"
      ]
     },
     "execution_count": 3,
     "metadata": {},
     "output_type": "execute_result"
    }
   ],
   "source": [
    "train_data.shape"
   ]
  },
  {
   "cell_type": "code",
   "execution_count": 4,
   "id": "0c04fee8",
   "metadata": {
    "execution": {
     "iopub.execute_input": "2022-11-03T15:16:03.257112Z",
     "iopub.status.busy": "2022-11-03T15:16:03.256677Z",
     "iopub.status.idle": "2022-11-03T15:16:03.282190Z",
     "shell.execute_reply": "2022-11-03T15:16:03.280859Z"
    },
    "papermill": {
     "duration": 0.045201,
     "end_time": "2022-11-03T15:16:03.284768",
     "exception": false,
     "start_time": "2022-11-03T15:16:03.239567",
     "status": "completed"
    },
    "tags": []
   },
   "outputs": [
    {
     "data": {
      "text/html": [
       "<div>\n",
       "<style scoped>\n",
       "    .dataframe tbody tr th:only-of-type {\n",
       "        vertical-align: middle;\n",
       "    }\n",
       "\n",
       "    .dataframe tbody tr th {\n",
       "        vertical-align: top;\n",
       "    }\n",
       "\n",
       "    .dataframe thead th {\n",
       "        text-align: right;\n",
       "    }\n",
       "</style>\n",
       "<table border=\"1\" class=\"dataframe\">\n",
       "  <thead>\n",
       "    <tr style=\"text-align: right;\">\n",
       "      <th></th>\n",
       "      <th>PassengerId</th>\n",
       "      <th>Pclass</th>\n",
       "      <th>Name</th>\n",
       "      <th>Sex</th>\n",
       "      <th>Age</th>\n",
       "      <th>SibSp</th>\n",
       "      <th>Parch</th>\n",
       "      <th>Ticket</th>\n",
       "      <th>Fare</th>\n",
       "      <th>Cabin</th>\n",
       "      <th>Embarked</th>\n",
       "    </tr>\n",
       "  </thead>\n",
       "  <tbody>\n",
       "    <tr>\n",
       "      <th>0</th>\n",
       "      <td>892</td>\n",
       "      <td>3</td>\n",
       "      <td>Kelly, Mr. James</td>\n",
       "      <td>male</td>\n",
       "      <td>34.5</td>\n",
       "      <td>0</td>\n",
       "      <td>0</td>\n",
       "      <td>330911</td>\n",
       "      <td>7.8292</td>\n",
       "      <td>NaN</td>\n",
       "      <td>Q</td>\n",
       "    </tr>\n",
       "    <tr>\n",
       "      <th>1</th>\n",
       "      <td>893</td>\n",
       "      <td>3</td>\n",
       "      <td>Wilkes, Mrs. James (Ellen Needs)</td>\n",
       "      <td>female</td>\n",
       "      <td>47.0</td>\n",
       "      <td>1</td>\n",
       "      <td>0</td>\n",
       "      <td>363272</td>\n",
       "      <td>7.0000</td>\n",
       "      <td>NaN</td>\n",
       "      <td>S</td>\n",
       "    </tr>\n",
       "    <tr>\n",
       "      <th>2</th>\n",
       "      <td>894</td>\n",
       "      <td>2</td>\n",
       "      <td>Myles, Mr. Thomas Francis</td>\n",
       "      <td>male</td>\n",
       "      <td>62.0</td>\n",
       "      <td>0</td>\n",
       "      <td>0</td>\n",
       "      <td>240276</td>\n",
       "      <td>9.6875</td>\n",
       "      <td>NaN</td>\n",
       "      <td>Q</td>\n",
       "    </tr>\n",
       "    <tr>\n",
       "      <th>3</th>\n",
       "      <td>895</td>\n",
       "      <td>3</td>\n",
       "      <td>Wirz, Mr. Albert</td>\n",
       "      <td>male</td>\n",
       "      <td>27.0</td>\n",
       "      <td>0</td>\n",
       "      <td>0</td>\n",
       "      <td>315154</td>\n",
       "      <td>8.6625</td>\n",
       "      <td>NaN</td>\n",
       "      <td>S</td>\n",
       "    </tr>\n",
       "    <tr>\n",
       "      <th>4</th>\n",
       "      <td>896</td>\n",
       "      <td>3</td>\n",
       "      <td>Hirvonen, Mrs. Alexander (Helga E Lindqvist)</td>\n",
       "      <td>female</td>\n",
       "      <td>22.0</td>\n",
       "      <td>1</td>\n",
       "      <td>1</td>\n",
       "      <td>3101298</td>\n",
       "      <td>12.2875</td>\n",
       "      <td>NaN</td>\n",
       "      <td>S</td>\n",
       "    </tr>\n",
       "  </tbody>\n",
       "</table>\n",
       "</div>"
      ],
      "text/plain": [
       "   PassengerId  Pclass                                          Name     Sex  \\\n",
       "0          892       3                              Kelly, Mr. James    male   \n",
       "1          893       3              Wilkes, Mrs. James (Ellen Needs)  female   \n",
       "2          894       2                     Myles, Mr. Thomas Francis    male   \n",
       "3          895       3                              Wirz, Mr. Albert    male   \n",
       "4          896       3  Hirvonen, Mrs. Alexander (Helga E Lindqvist)  female   \n",
       "\n",
       "    Age  SibSp  Parch   Ticket     Fare Cabin Embarked  \n",
       "0  34.5      0      0   330911   7.8292   NaN        Q  \n",
       "1  47.0      1      0   363272   7.0000   NaN        S  \n",
       "2  62.0      0      0   240276   9.6875   NaN        Q  \n",
       "3  27.0      0      0   315154   8.6625   NaN        S  \n",
       "4  22.0      1      1  3101298  12.2875   NaN        S  "
      ]
     },
     "execution_count": 4,
     "metadata": {},
     "output_type": "execute_result"
    }
   ],
   "source": [
    "test_data = pd.read_csv('/kaggle/input/titanic/test.csv')\n",
    "test_data.head()"
   ]
  },
  {
   "cell_type": "code",
   "execution_count": 5,
   "id": "2c0e4874",
   "metadata": {
    "execution": {
     "iopub.execute_input": "2022-11-03T15:16:03.312275Z",
     "iopub.status.busy": "2022-11-03T15:16:03.311830Z",
     "iopub.status.idle": "2022-11-03T15:16:03.319367Z",
     "shell.execute_reply": "2022-11-03T15:16:03.318003Z"
    },
    "papermill": {
     "duration": 0.023872,
     "end_time": "2022-11-03T15:16:03.321717",
     "exception": false,
     "start_time": "2022-11-03T15:16:03.297845",
     "status": "completed"
    },
    "tags": []
   },
   "outputs": [
    {
     "data": {
      "text/plain": [
       "(418, 11)"
      ]
     },
     "execution_count": 5,
     "metadata": {},
     "output_type": "execute_result"
    }
   ],
   "source": [
    "test_data.shape"
   ]
  },
  {
   "cell_type": "code",
   "execution_count": 6,
   "id": "d1cabfc0",
   "metadata": {
    "execution": {
     "iopub.execute_input": "2022-11-03T15:16:03.349135Z",
     "iopub.status.busy": "2022-11-03T15:16:03.348632Z",
     "iopub.status.idle": "2022-11-03T15:16:03.360087Z",
     "shell.execute_reply": "2022-11-03T15:16:03.358694Z"
    },
    "papermill": {
     "duration": 0.028047,
     "end_time": "2022-11-03T15:16:03.362685",
     "exception": false,
     "start_time": "2022-11-03T15:16:03.334638",
     "status": "completed"
    },
    "tags": []
   },
   "outputs": [
    {
     "data": {
      "text/plain": [
       "(418,)"
      ]
     },
     "execution_count": 6,
     "metadata": {},
     "output_type": "execute_result"
    }
   ],
   "source": [
    "Pass = test_data['PassengerId']\n",
    "Pass.shape"
   ]
  },
  {
   "cell_type": "markdown",
   "id": "b182fda1",
   "metadata": {
    "papermill": {
     "duration": 0.012644,
     "end_time": "2022-11-03T15:16:03.389057",
     "exception": false,
     "start_time": "2022-11-03T15:16:03.376413",
     "status": "completed"
    },
    "tags": []
   },
   "source": [
    "> # **Feature Engineering**"
   ]
  },
  {
   "cell_type": "markdown",
   "id": "e3545a89",
   "metadata": {
    "papermill": {
     "duration": 0.012577,
     "end_time": "2022-11-03T15:16:03.414765",
     "exception": false,
     "start_time": "2022-11-03T15:16:03.402188",
     "status": "completed"
    },
    "tags": []
   },
   "source": [
    "## Droping unusual columns for both train and test dataset"
   ]
  },
  {
   "cell_type": "code",
   "execution_count": 7,
   "id": "5a31d94f",
   "metadata": {
    "execution": {
     "iopub.execute_input": "2022-11-03T15:16:03.442749Z",
     "iopub.status.busy": "2022-11-03T15:16:03.442310Z",
     "iopub.status.idle": "2022-11-03T15:16:03.456056Z",
     "shell.execute_reply": "2022-11-03T15:16:03.454238Z"
    },
    "papermill": {
     "duration": 0.03136,
     "end_time": "2022-11-03T15:16:03.459119",
     "exception": false,
     "start_time": "2022-11-03T15:16:03.427759",
     "status": "completed"
    },
    "tags": []
   },
   "outputs": [],
   "source": [
    "train_data = train_data.drop(columns = ['PassengerId', 'Name'])\n",
    "test_data = test_data.drop(columns = ['PassengerId', 'Name'])"
   ]
  },
  {
   "cell_type": "markdown",
   "id": "40561ca5",
   "metadata": {
    "papermill": {
     "duration": 0.01232,
     "end_time": "2022-11-03T15:16:03.484731",
     "exception": false,
     "start_time": "2022-11-03T15:16:03.472411",
     "status": "completed"
    },
    "tags": []
   },
   "source": [
    "## Checking missing value for both train and test data"
   ]
  },
  {
   "cell_type": "code",
   "execution_count": 8,
   "id": "3edb65c9",
   "metadata": {
    "execution": {
     "iopub.execute_input": "2022-11-03T15:16:03.512745Z",
     "iopub.status.busy": "2022-11-03T15:16:03.512252Z",
     "iopub.status.idle": "2022-11-03T15:16:03.525313Z",
     "shell.execute_reply": "2022-11-03T15:16:03.523517Z"
    },
    "papermill": {
     "duration": 0.029833,
     "end_time": "2022-11-03T15:16:03.527833",
     "exception": false,
     "start_time": "2022-11-03T15:16:03.498000",
     "status": "completed"
    },
    "tags": []
   },
   "outputs": [
    {
     "name": "stdout",
     "output_type": "stream",
     "text": [
      "Age 177 float64\n",
      "Cabin 687 object\n",
      "Embarked 2 object\n"
     ]
    }
   ],
   "source": [
    "missing_train_values = [col for col in train_data.columns if train_data[col].isna().sum() > 0]\n",
    "for col in missing_train_values:\n",
    "    print(col, train_data[col].isna().sum(), train_data[col].dtypes)"
   ]
  },
  {
   "cell_type": "code",
   "execution_count": 9,
   "id": "3adab20d",
   "metadata": {
    "execution": {
     "iopub.execute_input": "2022-11-03T15:16:03.556880Z",
     "iopub.status.busy": "2022-11-03T15:16:03.555776Z",
     "iopub.status.idle": "2022-11-03T15:16:03.567772Z",
     "shell.execute_reply": "2022-11-03T15:16:03.566222Z"
    },
    "papermill": {
     "duration": 0.030181,
     "end_time": "2022-11-03T15:16:03.570847",
     "exception": false,
     "start_time": "2022-11-03T15:16:03.540666",
     "status": "completed"
    },
    "tags": []
   },
   "outputs": [
    {
     "name": "stdout",
     "output_type": "stream",
     "text": [
      "Age 86 float64\n",
      "Fare 1 float64\n",
      "Cabin 327 object\n"
     ]
    }
   ],
   "source": [
    "missing_test_values = [col for col in test_data.columns if test_data[col].isna().sum() > 0]\n",
    "for col in missing_test_values:\n",
    "    print(col, test_data[col].isna().sum(), test_data[col].dtypes)"
   ]
  },
  {
   "cell_type": "markdown",
   "id": "58a509bb",
   "metadata": {
    "papermill": {
     "duration": 0.014143,
     "end_time": "2022-11-03T15:16:03.599217",
     "exception": false,
     "start_time": "2022-11-03T15:16:03.585074",
     "status": "completed"
    },
    "tags": []
   },
   "source": [
    "## Checking skewness of train data"
   ]
  },
  {
   "cell_type": "code",
   "execution_count": 10,
   "id": "2197a621",
   "metadata": {
    "execution": {
     "iopub.execute_input": "2022-11-03T15:16:03.635448Z",
     "iopub.status.busy": "2022-11-03T15:16:03.634344Z",
     "iopub.status.idle": "2022-11-03T15:16:05.241134Z",
     "shell.execute_reply": "2022-11-03T15:16:05.239444Z"
    },
    "papermill": {
     "duration": 1.627381,
     "end_time": "2022-11-03T15:16:05.244002",
     "exception": false,
     "start_time": "2022-11-03T15:16:03.616621",
     "status": "completed"
    },
    "tags": []
   },
   "outputs": [
    {
     "name": "stderr",
     "output_type": "stream",
     "text": [
      "/opt/conda/lib/python3.7/site-packages/seaborn/distributions.py:2619: FutureWarning: `distplot` is a deprecated function and will be removed in a future version. Please adapt your code to use either `displot` (a figure-level function with similar flexibility) or `histplot` (an axes-level function for histograms).\n",
      "  warnings.warn(msg, FutureWarning)\n"
     ]
    },
    {
     "data": {
      "text/plain": [
       "<AxesSubplot:xlabel='Age', ylabel='Density'>"
      ]
     },
     "execution_count": 10,
     "metadata": {},
     "output_type": "execute_result"
    },
    {
     "data": {
      "image/png": "[encoded data removed]",
      "text/plain": [
       "<Figure size 720x432 with 1 Axes>"
      ]
     },
     "metadata": {
      "needs_background": "light"
     },
     "output_type": "display_data"
    }
   ],
   "source": [
    "import seaborn as sns\n",
    "import matplotlib.pyplot as plt\n",
    "fig, ax = plt.subplots(figsize = (10, 6))\n",
    "sns.distplot(train_data['Age'])"
   ]
  },
  {
   "cell_type": "markdown",
   "id": "8b87a833",
   "metadata": {
    "papermill": {
     "duration": 0.012823,
     "end_time": "2022-11-03T15:16:05.270097",
     "exception": false,
     "start_time": "2022-11-03T15:16:05.257274",
     "status": "completed"
    },
    "tags": []
   },
   "source": [
    "## Filling missing value by median in train and test dataset"
   ]
  },
  {
   "cell_type": "code",
   "execution_count": 11,
   "id": "a71c7ab5",
   "metadata": {
    "execution": {
     "iopub.execute_input": "2022-11-03T15:16:05.298972Z",
     "iopub.status.busy": "2022-11-03T15:16:05.297819Z",
     "iopub.status.idle": "2022-11-03T15:16:05.673069Z",
     "shell.execute_reply": "2022-11-03T15:16:05.671337Z"
    },
    "papermill": {
     "duration": 0.392788,
     "end_time": "2022-11-03T15:16:05.676050",
     "exception": false,
     "start_time": "2022-11-03T15:16:05.283262",
     "status": "completed"
    },
    "tags": []
   },
   "outputs": [],
   "source": [
    "from sklearn.impute import SimpleImputer\n",
    "train_imputer = SimpleImputer(missing_values = np.nan, strategy = 'median')\n",
    "train_imputer.fit(train_data[['Age']])\n",
    "train_data[['Age']] = train_imputer.transform(train_data[['Age']])"
   ]
  },
  {
   "cell_type": "code",
   "execution_count": 12,
   "id": "0fcf0e47",
   "metadata": {
    "execution": {
     "iopub.execute_input": "2022-11-03T15:16:05.705183Z",
     "iopub.status.busy": "2022-11-03T15:16:05.704689Z",
     "iopub.status.idle": "2022-11-03T15:16:05.719205Z",
     "shell.execute_reply": "2022-11-03T15:16:05.718000Z"
    },
    "papermill": {
     "duration": 0.032474,
     "end_time": "2022-11-03T15:16:05.722034",
     "exception": false,
     "start_time": "2022-11-03T15:16:05.689560",
     "status": "completed"
    },
    "tags": []
   },
   "outputs": [],
   "source": [
    "test_imputer = SimpleImputer(missing_values = np.nan, strategy = 'median')\n",
    "test_imputer.fit(test_data[['Age', 'Fare']])\n",
    "test_data[['Age', 'Fare']] = test_imputer.transform(test_data[['Age', 'Fare']])"
   ]
  },
  {
   "cell_type": "markdown",
   "id": "eb957240",
   "metadata": {
    "papermill": {
     "duration": 0.012969,
     "end_time": "2022-11-03T15:16:05.748530",
     "exception": false,
     "start_time": "2022-11-03T15:16:05.735561",
     "status": "completed"
    },
    "tags": []
   },
   "source": [
    "## Filling missing categorical value by most_frequent in train and test data"
   ]
  },
  {
   "cell_type": "code",
   "execution_count": 13,
   "id": "9fedfe3d",
   "metadata": {
    "execution": {
     "iopub.execute_input": "2022-11-03T15:16:05.778083Z",
     "iopub.status.busy": "2022-11-03T15:16:05.777649Z",
     "iopub.status.idle": "2022-11-03T15:16:05.793999Z",
     "shell.execute_reply": "2022-11-03T15:16:05.792449Z"
    },
    "papermill": {
     "duration": 0.034166,
     "end_time": "2022-11-03T15:16:05.796902",
     "exception": false,
     "start_time": "2022-11-03T15:16:05.762736",
     "status": "completed"
    },
    "tags": []
   },
   "outputs": [],
   "source": [
    "from sklearn.impute import SimpleImputer\n",
    "object_train_data = [col for col in train_data.columns if (train_data[col].dtypes == 'object' and train_data[col].isna().sum() > 0)]\n",
    "imputer_train_object = SimpleImputer(missing_values = np.nan, strategy = 'most_frequent')\n",
    "imputer_train_object.fit(train_data[object_train_data])\n",
    "train_data[object_train_data] = imputer_train_object.transform(train_data[object_train_data])"
   ]
  },
  {
   "cell_type": "code",
   "execution_count": 14,
   "id": "7c1dd75f",
   "metadata": {
    "execution": {
     "iopub.execute_input": "2022-11-03T15:16:05.828633Z",
     "iopub.status.busy": "2022-11-03T15:16:05.827903Z",
     "iopub.status.idle": "2022-11-03T15:16:05.840264Z",
     "shell.execute_reply": "2022-11-03T15:16:05.839135Z"
    },
    "papermill": {
     "duration": 0.030993,
     "end_time": "2022-11-03T15:16:05.843067",
     "exception": false,
     "start_time": "2022-11-03T15:16:05.812074",
     "status": "completed"
    },
    "tags": []
   },
   "outputs": [],
   "source": [
    "object_test_data = [col for col in test_data.columns if (test_data[col].dtypes == 'object' and test_data[col].isna().sum() > 0)]\n",
    "imputer_test_mode = SimpleImputer(missing_values = np.nan, strategy = 'most_frequent')\n",
    "imputer_test_mode.fit(test_data[object_test_data])\n",
    "test_data[object_test_data] = imputer_test_mode.transform(test_data[object_test_data])"
   ]
  },
  {
   "cell_type": "markdown",
   "id": "ed527e20",
   "metadata": {
    "papermill": {
     "duration": 0.014051,
     "end_time": "2022-11-03T15:16:05.870844",
     "exception": false,
     "start_time": "2022-11-03T15:16:05.856793",
     "status": "completed"
    },
    "tags": []
   },
   "source": [
    "### Checking missing value"
   ]
  },
  {
   "cell_type": "code",
   "execution_count": 15,
   "id": "2ed5acd7",
   "metadata": {
    "execution": {
     "iopub.execute_input": "2022-11-03T15:16:05.900795Z",
     "iopub.status.busy": "2022-11-03T15:16:05.900067Z",
     "iopub.status.idle": "2022-11-03T15:16:05.908440Z",
     "shell.execute_reply": "2022-11-03T15:16:05.907375Z"
    },
    "papermill": {
     "duration": 0.026009,
     "end_time": "2022-11-03T15:16:05.910762",
     "exception": false,
     "start_time": "2022-11-03T15:16:05.884753",
     "status": "completed"
    },
    "tags": []
   },
   "outputs": [
    {
     "data": {
      "text/plain": [
       "0"
      ]
     },
     "execution_count": 15,
     "metadata": {},
     "output_type": "execute_result"
    }
   ],
   "source": [
    "train_data.isna().sum().sum()"
   ]
  },
  {
   "cell_type": "code",
   "execution_count": 16,
   "id": "bb9db999",
   "metadata": {
    "execution": {
     "iopub.execute_input": "2022-11-03T15:16:05.941888Z",
     "iopub.status.busy": "2022-11-03T15:16:05.941271Z",
     "iopub.status.idle": "2022-11-03T15:16:05.948949Z",
     "shell.execute_reply": "2022-11-03T15:16:05.948189Z"
    },
    "papermill": {
     "duration": 0.026378,
     "end_time": "2022-11-03T15:16:05.951164",
     "exception": false,
     "start_time": "2022-11-03T15:16:05.924786",
     "status": "completed"
    },
    "tags": []
   },
   "outputs": [
    {
     "data": {
      "text/plain": [
       "0"
      ]
     },
     "execution_count": 16,
     "metadata": {},
     "output_type": "execute_result"
    }
   ],
   "source": [
    "test_data.isna().sum().sum()"
   ]
  },
  {
   "cell_type": "markdown",
   "id": "5ce97cd4",
   "metadata": {
    "papermill": {
     "duration": 0.013433,
     "end_time": "2022-11-03T15:16:05.979662",
     "exception": false,
     "start_time": "2022-11-03T15:16:05.966229",
     "status": "completed"
    },
    "tags": []
   },
   "source": [
    "## Find no of unique categorical data of train data"
   ]
  },
  {
   "cell_type": "code",
   "execution_count": 17,
   "id": "57a20fa0",
   "metadata": {
    "execution": {
     "iopub.execute_input": "2022-11-03T15:16:06.010829Z",
     "iopub.status.busy": "2022-11-03T15:16:06.010199Z",
     "iopub.status.idle": "2022-11-03T15:16:06.017348Z",
     "shell.execute_reply": "2022-11-03T15:16:06.016279Z"
    },
    "papermill": {
     "duration": 0.026438,
     "end_time": "2022-11-03T15:16:06.020501",
     "exception": false,
     "start_time": "2022-11-03T15:16:05.994063",
     "status": "completed"
    },
    "tags": []
   },
   "outputs": [
    {
     "name": "stdout",
     "output_type": "stream",
     "text": [
      "Sex : 2\n",
      "Ticket : 681\n",
      "Cabin : 147\n",
      "Embarked : 3\n"
     ]
    }
   ],
   "source": [
    "for i in train_data.columns:\n",
    "    if train_data[i].dtypes == 'object':\n",
    "        print(f\"{i} : {train_data[i].nunique()}\")"
   ]
  },
  {
   "cell_type": "code",
   "execution_count": 18,
   "id": "f2d818cd",
   "metadata": {
    "execution": {
     "iopub.execute_input": "2022-11-03T15:16:06.049057Z",
     "iopub.status.busy": "2022-11-03T15:16:06.048602Z",
     "iopub.status.idle": "2022-11-03T15:16:06.060169Z",
     "shell.execute_reply": "2022-11-03T15:16:06.058634Z"
    },
    "papermill": {
     "duration": 0.028508,
     "end_time": "2022-11-03T15:16:06.062500",
     "exception": false,
     "start_time": "2022-11-03T15:16:06.033992",
     "status": "completed"
    },
    "tags": []
   },
   "outputs": [
    {
     "data": {
      "text/plain": [
       "['Ticket', 'Cabin']"
      ]
     },
     "execution_count": 18,
     "metadata": {},
     "output_type": "execute_result"
    }
   ],
   "source": [
    "Label_train_data = [col for col in train_data.columns if (train_data[col].dtypes == 'object' and train_data[col].nunique() > 10)]\n",
    "Label_train_data"
   ]
  },
  {
   "cell_type": "code",
   "execution_count": 19,
   "id": "66091acb",
   "metadata": {
    "execution": {
     "iopub.execute_input": "2022-11-03T15:16:06.093217Z",
     "iopub.status.busy": "2022-11-03T15:16:06.092072Z",
     "iopub.status.idle": "2022-11-03T15:16:06.101376Z",
     "shell.execute_reply": "2022-11-03T15:16:06.100294Z"
    },
    "papermill": {
     "duration": 0.027652,
     "end_time": "2022-11-03T15:16:06.103774",
     "exception": false,
     "start_time": "2022-11-03T15:16:06.076122",
     "status": "completed"
    },
    "tags": []
   },
   "outputs": [
    {
     "data": {
      "text/plain": [
       "['Sex', 'Embarked']"
      ]
     },
     "execution_count": 19,
     "metadata": {},
     "output_type": "execute_result"
    }
   ],
   "source": [
    "OneHot_train_data = [col for col in train_data.columns if (train_data[col].dtypes == 'object' and train_data[col].nunique() <= 10)]\n",
    "OneHot_train_data"
   ]
  },
  {
   "cell_type": "code",
   "execution_count": 20,
   "id": "b6ba8513",
   "metadata": {
    "execution": {
     "iopub.execute_input": "2022-11-03T15:16:06.133656Z",
     "iopub.status.busy": "2022-11-03T15:16:06.132841Z",
     "iopub.status.idle": "2022-11-03T15:16:06.144885Z",
     "shell.execute_reply": "2022-11-03T15:16:06.143234Z"
    },
    "papermill": {
     "duration": 0.030324,
     "end_time": "2022-11-03T15:16:06.147864",
     "exception": false,
     "start_time": "2022-11-03T15:16:06.117540",
     "status": "completed"
    },
    "tags": []
   },
   "outputs": [],
   "source": [
    "from sklearn.preprocessing import LabelEncoder\n",
    "L = train_data[Label_train_data] = train_data[Label_train_data].apply(LabelEncoder().fit_transform)\n",
    "L = np.array(L)"
   ]
  },
  {
   "cell_type": "code",
   "execution_count": 21,
   "id": "25c00fd9",
   "metadata": {
    "execution": {
     "iopub.execute_input": "2022-11-03T15:16:06.177049Z",
     "iopub.status.busy": "2022-11-03T15:16:06.176514Z",
     "iopub.status.idle": "2022-11-03T15:16:06.185137Z",
     "shell.execute_reply": "2022-11-03T15:16:06.183454Z"
    },
    "papermill": {
     "duration": 0.02637,
     "end_time": "2022-11-03T15:16:06.187744",
     "exception": false,
     "start_time": "2022-11-03T15:16:06.161374",
     "status": "completed"
    },
    "tags": []
   },
   "outputs": [
    {
     "data": {
      "text/plain": [
       "(891, 2)"
      ]
     },
     "execution_count": 21,
     "metadata": {},
     "output_type": "execute_result"
    }
   ],
   "source": [
    "L.shape"
   ]
  },
  {
   "cell_type": "code",
   "execution_count": 22,
   "id": "48e11241",
   "metadata": {
    "execution": {
     "iopub.execute_input": "2022-11-03T15:16:06.220182Z",
     "iopub.status.busy": "2022-11-03T15:16:06.218474Z",
     "iopub.status.idle": "2022-11-03T15:16:06.230510Z",
     "shell.execute_reply": "2022-11-03T15:16:06.229174Z"
    },
    "papermill": {
     "duration": 0.031782,
     "end_time": "2022-11-03T15:16:06.233327",
     "exception": false,
     "start_time": "2022-11-03T15:16:06.201545",
     "status": "completed"
    },
    "tags": []
   },
   "outputs": [],
   "source": [
    "new_data = pd.get_dummies(train_data, columns=OneHot_train_data)"
   ]
  },
  {
   "cell_type": "code",
   "execution_count": 23,
   "id": "f32adfc7",
   "metadata": {
    "execution": {
     "iopub.execute_input": "2022-11-03T15:16:06.263371Z",
     "iopub.status.busy": "2022-11-03T15:16:06.262856Z",
     "iopub.status.idle": "2022-11-03T15:16:06.272438Z",
     "shell.execute_reply": "2022-11-03T15:16:06.271034Z"
    },
    "papermill": {
     "duration": 0.028267,
     "end_time": "2022-11-03T15:16:06.275306",
     "exception": false,
     "start_time": "2022-11-03T15:16:06.247039",
     "status": "completed"
    },
    "tags": []
   },
   "outputs": [],
   "source": [
    "X = new_data.iloc[:, 1:].values\n",
    "y = new_data.iloc[:, 0]"
   ]
  },
  {
   "cell_type": "code",
   "execution_count": 24,
   "id": "0bb09cbc",
   "metadata": {
    "execution": {
     "iopub.execute_input": "2022-11-03T15:16:06.305130Z",
     "iopub.status.busy": "2022-11-03T15:16:06.304701Z",
     "iopub.status.idle": "2022-11-03T15:16:06.310703Z",
     "shell.execute_reply": "2022-11-03T15:16:06.309480Z"
    },
    "papermill": {
     "duration": 0.024173,
     "end_time": "2022-11-03T15:16:06.313764",
     "exception": false,
     "start_time": "2022-11-03T15:16:06.289591",
     "status": "completed"
    },
    "tags": []
   },
   "outputs": [],
   "source": [
    "y = np.array(y)"
   ]
  },
  {
   "cell_type": "code",
   "execution_count": 25,
   "id": "4e1e8801",
   "metadata": {
    "execution": {
     "iopub.execute_input": "2022-11-03T15:16:06.344463Z",
     "iopub.status.busy": "2022-11-03T15:16:06.343912Z",
     "iopub.status.idle": "2022-11-03T15:16:06.351852Z",
     "shell.execute_reply": "2022-11-03T15:16:06.350681Z"
    },
    "papermill": {
     "duration": 0.026138,
     "end_time": "2022-11-03T15:16:06.354406",
     "exception": false,
     "start_time": "2022-11-03T15:16:06.328268",
     "status": "completed"
    },
    "tags": []
   },
   "outputs": [
    {
     "data": {
      "text/plain": [
       "(891, 12)"
      ]
     },
     "execution_count": 25,
     "metadata": {},
     "output_type": "execute_result"
    }
   ],
   "source": [
    "X.shape"
   ]
  },
  {
   "cell_type": "code",
   "execution_count": 26,
   "id": "090d5c7f",
   "metadata": {
    "execution": {
     "iopub.execute_input": "2022-11-03T15:16:06.386031Z",
     "iopub.status.busy": "2022-11-03T15:16:06.385539Z",
     "iopub.status.idle": "2022-11-03T15:16:06.395599Z",
     "shell.execute_reply": "2022-11-03T15:16:06.394168Z"
    },
    "papermill": {
     "duration": 0.02907,
     "end_time": "2022-11-03T15:16:06.398497",
     "exception": false,
     "start_time": "2022-11-03T15:16:06.369427",
     "status": "completed"
    },
    "tags": []
   },
   "outputs": [
    {
     "data": {
      "text/plain": [
       "array([[  3.,  22.,   1., ...,   1., 523.,  47.],\n",
       "       [  1.,  38.,   1., ...,   0., 596.,  81.],\n",
       "       [  3.,  26.,   0., ...,   1., 669.,  47.],\n",
       "       ...,\n",
       "       [  3.,  28.,   1., ...,   1., 675.,  47.],\n",
       "       [  1.,  26.,   0., ...,   0.,   8.,  60.],\n",
       "       [  3.,  32.,   0., ...,   0., 466.,  47.]])"
      ]
     },
     "execution_count": 26,
     "metadata": {},
     "output_type": "execute_result"
    }
   ],
   "source": [
    "main_train = np.concatenate((X, L), axis = 1)\n",
    "main_train"
   ]
  },
  {
   "cell_type": "code",
   "execution_count": 27,
   "id": "aeeda55a",
   "metadata": {
    "execution": {
     "iopub.execute_input": "2022-11-03T15:16:06.430471Z",
     "iopub.status.busy": "2022-11-03T15:16:06.430025Z",
     "iopub.status.idle": "2022-11-03T15:16:06.439253Z",
     "shell.execute_reply": "2022-11-03T15:16:06.437862Z"
    },
    "papermill": {
     "duration": 0.028334,
     "end_time": "2022-11-03T15:16:06.441842",
     "exception": false,
     "start_time": "2022-11-03T15:16:06.413508",
     "status": "completed"
    },
    "tags": []
   },
   "outputs": [
    {
     "data": {
      "text/plain": [
       "(891, 14)"
      ]
     },
     "execution_count": 27,
     "metadata": {},
     "output_type": "execute_result"
    }
   ],
   "source": [
    "main_train.shape"
   ]
  },
  {
   "cell_type": "code",
   "execution_count": 28,
   "id": "e450e83d",
   "metadata": {
    "execution": {
     "iopub.execute_input": "2022-11-03T15:16:06.472788Z",
     "iopub.status.busy": "2022-11-03T15:16:06.471704Z",
     "iopub.status.idle": "2022-11-03T15:16:06.479424Z",
     "shell.execute_reply": "2022-11-03T15:16:06.478236Z"
    },
    "papermill": {
     "duration": 0.025774,
     "end_time": "2022-11-03T15:16:06.481886",
     "exception": false,
     "start_time": "2022-11-03T15:16:06.456112",
     "status": "completed"
    },
    "tags": []
   },
   "outputs": [
    {
     "data": {
      "text/plain": [
       "numpy.ndarray"
      ]
     },
     "execution_count": 28,
     "metadata": {},
     "output_type": "execute_result"
    }
   ],
   "source": [
    "type(main_train)"
   ]
  },
  {
   "cell_type": "code",
   "execution_count": 29,
   "id": "67b11e63",
   "metadata": {
    "execution": {
     "iopub.execute_input": "2022-11-03T15:16:06.511740Z",
     "iopub.status.busy": "2022-11-03T15:16:06.511253Z",
     "iopub.status.idle": "2022-11-03T15:16:06.519849Z",
     "shell.execute_reply": "2022-11-03T15:16:06.518407Z"
    },
    "papermill": {
     "duration": 0.026627,
     "end_time": "2022-11-03T15:16:06.522477",
     "exception": false,
     "start_time": "2022-11-03T15:16:06.495850",
     "status": "completed"
    },
    "tags": []
   },
   "outputs": [
    {
     "data": {
      "text/plain": [
       "numpy.ndarray"
      ]
     },
     "execution_count": 29,
     "metadata": {},
     "output_type": "execute_result"
    }
   ],
   "source": [
    "type(y)"
   ]
  },
  {
   "cell_type": "markdown",
   "id": "4778ce9c",
   "metadata": {
    "papermill": {
     "duration": 0.013806,
     "end_time": "2022-11-03T15:16:06.550532",
     "exception": false,
     "start_time": "2022-11-03T15:16:06.536726",
     "status": "completed"
    },
    "tags": []
   },
   "source": [
    "## Find no of unique categorical data of test data"
   ]
  },
  {
   "cell_type": "code",
   "execution_count": 30,
   "id": "4a9c5c00",
   "metadata": {
    "execution": {
     "iopub.execute_input": "2022-11-03T15:16:06.581287Z",
     "iopub.status.busy": "2022-11-03T15:16:06.580793Z",
     "iopub.status.idle": "2022-11-03T15:16:06.591966Z",
     "shell.execute_reply": "2022-11-03T15:16:06.590546Z"
    },
    "papermill": {
     "duration": 0.030011,
     "end_time": "2022-11-03T15:16:06.594652",
     "exception": false,
     "start_time": "2022-11-03T15:16:06.564641",
     "status": "completed"
    },
    "tags": []
   },
   "outputs": [
    {
     "data": {
      "text/plain": [
       "['Ticket', 'Cabin']"
      ]
     },
     "execution_count": 30,
     "metadata": {},
     "output_type": "execute_result"
    }
   ],
   "source": [
    "Label_test_data = [col for col in test_data.columns if (test_data[col].dtypes == 'object' and test_data[col].nunique() > 10)]\n",
    "Label_test_data"
   ]
  },
  {
   "cell_type": "code",
   "execution_count": 31,
   "id": "c9e6b9b1",
   "metadata": {
    "execution": {
     "iopub.execute_input": "2022-11-03T15:16:06.625516Z",
     "iopub.status.busy": "2022-11-03T15:16:06.625060Z",
     "iopub.status.idle": "2022-11-03T15:16:06.636070Z",
     "shell.execute_reply": "2022-11-03T15:16:06.634955Z"
    },
    "papermill": {
     "duration": 0.03001,
     "end_time": "2022-11-03T15:16:06.639112",
     "exception": false,
     "start_time": "2022-11-03T15:16:06.609102",
     "status": "completed"
    },
    "tags": []
   },
   "outputs": [
    {
     "data": {
      "text/plain": [
       "['Sex', 'Embarked']"
      ]
     },
     "execution_count": 31,
     "metadata": {},
     "output_type": "execute_result"
    }
   ],
   "source": [
    "OneHot_test_data = [col for col in test_data.columns if (test_data[col].dtypes == 'object' and test_data[col].nunique() <= 10)]\n",
    "OneHot_test_data"
   ]
  },
  {
   "cell_type": "code",
   "execution_count": 32,
   "id": "ad409f7f",
   "metadata": {
    "execution": {
     "iopub.execute_input": "2022-11-03T15:16:06.671222Z",
     "iopub.status.busy": "2022-11-03T15:16:06.669742Z",
     "iopub.status.idle": "2022-11-03T15:16:06.681005Z",
     "shell.execute_reply": "2022-11-03T15:16:06.679812Z"
    },
    "papermill": {
     "duration": 0.03002,
     "end_time": "2022-11-03T15:16:06.683711",
     "exception": false,
     "start_time": "2022-11-03T15:16:06.653691",
     "status": "completed"
    },
    "tags": []
   },
   "outputs": [],
   "source": [
    "L1 = test_data[Label_test_data] = test_data[Label_test_data].apply(LabelEncoder().fit_transform)\n",
    "L1 = np.array(L1)"
   ]
  },
  {
   "cell_type": "code",
   "execution_count": 33,
   "id": "aeb9e6ed",
   "metadata": {
    "execution": {
     "iopub.execute_input": "2022-11-03T15:16:06.716218Z",
     "iopub.status.busy": "2022-11-03T15:16:06.715635Z",
     "iopub.status.idle": "2022-11-03T15:16:06.723643Z",
     "shell.execute_reply": "2022-11-03T15:16:06.722547Z"
    },
    "papermill": {
     "duration": 0.027542,
     "end_time": "2022-11-03T15:16:06.726085",
     "exception": false,
     "start_time": "2022-11-03T15:16:06.698543",
     "status": "completed"
    },
    "tags": []
   },
   "outputs": [
    {
     "data": {
      "text/plain": [
       "(418, 2)"
      ]
     },
     "execution_count": 33,
     "metadata": {},
     "output_type": "execute_result"
    }
   ],
   "source": [
    "L1.shape"
   ]
  },
  {
   "cell_type": "code",
   "execution_count": 34,
   "id": "e4534267",
   "metadata": {
    "execution": {
     "iopub.execute_input": "2022-11-03T15:16:06.757551Z",
     "iopub.status.busy": "2022-11-03T15:16:06.757070Z",
     "iopub.status.idle": "2022-11-03T15:16:06.767856Z",
     "shell.execute_reply": "2022-11-03T15:16:06.766408Z"
    },
    "papermill": {
     "duration": 0.02974,
     "end_time": "2022-11-03T15:16:06.770393",
     "exception": false,
     "start_time": "2022-11-03T15:16:06.740653",
     "status": "completed"
    },
    "tags": []
   },
   "outputs": [],
   "source": [
    "new_test_data = pd.get_dummies(test_data, columns=OneHot_test_data)"
   ]
  },
  {
   "cell_type": "code",
   "execution_count": 35,
   "id": "e21a86dd",
   "metadata": {
    "execution": {
     "iopub.execute_input": "2022-11-03T15:16:06.801871Z",
     "iopub.status.busy": "2022-11-03T15:16:06.801352Z",
     "iopub.status.idle": "2022-11-03T15:16:06.808906Z",
     "shell.execute_reply": "2022-11-03T15:16:06.807912Z"
    },
    "papermill": {
     "duration": 0.026649,
     "end_time": "2022-11-03T15:16:06.811653",
     "exception": false,
     "start_time": "2022-11-03T15:16:06.785004",
     "status": "completed"
    },
    "tags": []
   },
   "outputs": [],
   "source": [
    "X1 = new_test_data.iloc[:, :].values"
   ]
  },
  {
   "cell_type": "code",
   "execution_count": 36,
   "id": "2c1cb0cc",
   "metadata": {
    "execution": {
     "iopub.execute_input": "2022-11-03T15:16:06.844224Z",
     "iopub.status.busy": "2022-11-03T15:16:06.843157Z",
     "iopub.status.idle": "2022-11-03T15:16:06.852060Z",
     "shell.execute_reply": "2022-11-03T15:16:06.850374Z"
    },
    "papermill": {
     "duration": 0.028515,
     "end_time": "2022-11-03T15:16:06.854955",
     "exception": false,
     "start_time": "2022-11-03T15:16:06.826440",
     "status": "completed"
    },
    "tags": []
   },
   "outputs": [
    {
     "data": {
      "text/plain": [
       "(418, 12)"
      ]
     },
     "execution_count": 36,
     "metadata": {},
     "output_type": "execute_result"
    }
   ],
   "source": [
    "X1.shape"
   ]
  },
  {
   "cell_type": "code",
   "execution_count": 37,
   "id": "be54e883",
   "metadata": {
    "execution": {
     "iopub.execute_input": "2022-11-03T15:16:06.886113Z",
     "iopub.status.busy": "2022-11-03T15:16:06.885679Z",
     "iopub.status.idle": "2022-11-03T15:16:06.894638Z",
     "shell.execute_reply": "2022-11-03T15:16:06.893389Z"
    },
    "papermill": {
     "duration": 0.027349,
     "end_time": "2022-11-03T15:16:06.897021",
     "exception": false,
     "start_time": "2022-11-03T15:16:06.869672",
     "status": "completed"
    },
    "tags": []
   },
   "outputs": [
    {
     "data": {
      "text/plain": [
       "array([[  3. ,  34.5,   0. , ...,   0. , 152. ,  15. ],\n",
       "       [  3. ,  47. ,   1. , ...,   1. , 221. ,  15. ],\n",
       "       [  2. ,  62. ,   0. , ...,   0. ,  73. ,  15. ],\n",
       "       ...,\n",
       "       [  3. ,  38.5,   0. , ...,   1. , 346. ,  15. ],\n",
       "       [  3. ,  27. ,   0. , ...,   1. , 220. ,  15. ],\n",
       "       [  3. ,  27. ,   1. , ...,   0. , 105. ,  15. ]])"
      ]
     },
     "execution_count": 37,
     "metadata": {},
     "output_type": "execute_result"
    }
   ],
   "source": [
    "main_test = np.concatenate((X1, L1), axis = 1)\n",
    "main_test"
   ]
  },
  {
   "cell_type": "code",
   "execution_count": 38,
   "id": "a3570479",
   "metadata": {
    "execution": {
     "iopub.execute_input": "2022-11-03T15:16:06.929068Z",
     "iopub.status.busy": "2022-11-03T15:16:06.927762Z",
     "iopub.status.idle": "2022-11-03T15:16:06.937576Z",
     "shell.execute_reply": "2022-11-03T15:16:06.936240Z"
    },
    "papermill": {
     "duration": 0.028738,
     "end_time": "2022-11-03T15:16:06.940360",
     "exception": false,
     "start_time": "2022-11-03T15:16:06.911622",
     "status": "completed"
    },
    "tags": []
   },
   "outputs": [
    {
     "data": {
      "text/plain": [
       "array([[  3. ,  34.5,   0. , ...,   0. , 152. ,  15. ],\n",
       "       [  3. ,  47. ,   1. , ...,   1. , 221. ,  15. ],\n",
       "       [  2. ,  62. ,   0. , ...,   0. ,  73. ,  15. ],\n",
       "       ...,\n",
       "       [  3. ,  38.5,   0. , ...,   1. , 346. ,  15. ],\n",
       "       [  3. ,  27. ,   0. , ...,   1. , 220. ,  15. ],\n",
       "       [  3. ,  27. ,   1. , ...,   0. , 105. ,  15. ]])"
      ]
     },
     "execution_count": 38,
     "metadata": {},
     "output_type": "execute_result"
    }
   ],
   "source": [
    "main_test = np.concatenate((X1, L1), axis = 1)\n",
    "main_test"
   ]
  },
  {
   "cell_type": "code",
   "execution_count": 39,
   "id": "1baa20ed",
   "metadata": {
    "execution": {
     "iopub.execute_input": "2022-11-03T15:16:06.973531Z",
     "iopub.status.busy": "2022-11-03T15:16:06.973011Z",
     "iopub.status.idle": "2022-11-03T15:16:06.979937Z",
     "shell.execute_reply": "2022-11-03T15:16:06.979016Z"
    },
    "papermill": {
     "duration": 0.025928,
     "end_time": "2022-11-03T15:16:06.982200",
     "exception": false,
     "start_time": "2022-11-03T15:16:06.956272",
     "status": "completed"
    },
    "tags": []
   },
   "outputs": [
    {
     "data": {
      "text/plain": [
       "(418, 14)"
      ]
     },
     "execution_count": 39,
     "metadata": {},
     "output_type": "execute_result"
    }
   ],
   "source": [
    "main_test.shape"
   ]
  },
  {
   "cell_type": "markdown",
   "id": "d7d65d95",
   "metadata": {
    "papermill": {
     "duration": 0.016704,
     "end_time": "2022-11-03T15:16:07.014367",
     "exception": false,
     "start_time": "2022-11-03T15:16:06.997663",
     "status": "completed"
    },
    "tags": []
   },
   "source": [
    "# Train model on train data."
   ]
  },
  {
   "cell_type": "code",
   "execution_count": 40,
   "id": "d5b9e215",
   "metadata": {
    "execution": {
     "iopub.execute_input": "2022-11-03T15:16:07.048481Z",
     "iopub.status.busy": "2022-11-03T15:16:07.047964Z",
     "iopub.status.idle": "2022-11-03T15:16:07.053311Z",
     "shell.execute_reply": "2022-11-03T15:16:07.052025Z"
    },
    "papermill": {
     "duration": 0.025589,
     "end_time": "2022-11-03T15:16:07.055764",
     "exception": false,
     "start_time": "2022-11-03T15:16:07.030175",
     "status": "completed"
    },
    "tags": []
   },
   "outputs": [],
   "source": [
    "# from sklearn.preprocessing import StandardScaler\n",
    "# sc = StandardScaler()\n",
    "# main_train = sc.fit_transform(main_train)\n",
    "# main_test = sc.transform(main_test)"
   ]
  },
  {
   "cell_type": "code",
   "execution_count": 41,
   "id": "590712a1",
   "metadata": {
    "execution": {
     "iopub.execute_input": "2022-11-03T15:16:07.090800Z",
     "iopub.status.busy": "2022-11-03T15:16:07.090294Z",
     "iopub.status.idle": "2022-11-03T15:16:18.847138Z",
     "shell.execute_reply": "2022-11-03T15:16:18.845875Z"
    },
    "papermill": {
     "duration": 11.777362,
     "end_time": "2022-11-03T15:16:18.850004",
     "exception": false,
     "start_time": "2022-11-03T15:16:07.072642",
     "status": "completed"
    },
    "tags": []
   },
   "outputs": [
    {
     "data": {
      "text/plain": [
       "XGBClassifier(base_score=0.5, booster='gbtree', callbacks=None,\n",
       "              colsample_bylevel=1, colsample_bynode=1, colsample_bytree=0.7,\n",
       "              early_stopping_rounds=None, enable_categorical=False,\n",
       "              eval_metric=None, gamma=0, gpu_id=-1, grow_policy='depthwise',\n",
       "              importance_type=None, interaction_constraints='',\n",
       "              learning_rate=0.001, max_bin=256, max_cat_to_onehot=4,\n",
       "              max_delta_step=0, max_depth=4, max_leaves=0, min_child_weight=0,\n",
       "              missing=nan, monotone_constraints='()', n_estimators=2500,\n",
       "              n_jobs=0, num_parallel_tree=1, predictor='auto', random_state=27,\n",
       "              reg_alpha=6e-05, reg_lambda=1, ...)"
      ]
     },
     "execution_count": 41,
     "metadata": {},
     "output_type": "execute_result"
    }
   ],
   "source": [
    "from xgboost.sklearn import XGBClassifier\n",
    "model = XGBClassifier(learning_rate=0.001,n_estimators=2500,\n",
    "                                max_depth=4, min_child_weight=0,\n",
    "                                gamma=0, subsample=0.7,\n",
    "                                colsample_bytree=0.7,\n",
    "                                scale_pos_weight=1, seed=27,\n",
    "                                reg_alpha=0.00006)\n",
    "model.fit(main_train, y)"
   ]
  },
  {
   "cell_type": "code",
   "execution_count": 42,
   "id": "137d53b9",
   "metadata": {
    "execution": {
     "iopub.execute_input": "2022-11-03T15:16:18.882478Z",
     "iopub.status.busy": "2022-11-03T15:16:18.882072Z",
     "iopub.status.idle": "2022-11-03T15:16:18.911335Z",
     "shell.execute_reply": "2022-11-03T15:16:18.910286Z"
    },
    "papermill": {
     "duration": 0.048955,
     "end_time": "2022-11-03T15:16:18.914397",
     "exception": false,
     "start_time": "2022-11-03T15:16:18.865442",
     "status": "completed"
    },
    "tags": []
   },
   "outputs": [
    {
     "data": {
      "text/plain": [
       "array([0, 1, 0, 0, 1, 0, 1, 1, 1, 0, 0, 0, 1, 0, 1, 1, 0, 0, 0, 1, 0, 1,\n",
       "       1, 0, 1, 0, 1, 0, 0, 0, 0, 0, 1, 0, 0, 0, 1, 1, 0, 0, 0, 0, 0, 1,\n",
       "       1, 0, 0, 0, 1, 1, 0, 0, 1, 1, 0, 0, 0, 0, 0, 1, 0, 0, 0, 1, 0, 1,\n",
       "       1, 0, 1, 1, 1, 0, 1, 0, 1, 0, 0, 1, 0, 1, 1, 0, 0, 0, 0, 0, 1, 1,\n",
       "       1, 1, 1, 0, 1, 0, 0, 0, 1, 0, 1, 0, 1, 0, 0, 0, 1, 0, 0, 0, 0, 0,\n",
       "       0, 1, 1, 1, 1, 0, 0, 1, 0, 1, 1, 0, 1, 0, 0, 1, 0, 1, 0, 0, 0, 0,\n",
       "       0, 0, 0, 0, 0, 0, 0, 0, 0, 1, 0, 0, 0, 0, 0, 0, 0, 0, 1, 0, 0, 1,\n",
       "       0, 0, 1, 1, 0, 0, 1, 1, 1, 0, 0, 1, 0, 0, 1, 1, 0, 0, 0, 0, 0, 1,\n",
       "       1, 0, 1, 1, 0, 0, 1, 0, 1, 0, 1, 0, 0, 0, 0, 0, 0, 0, 1, 0, 1, 1,\n",
       "       0, 1, 1, 1, 0, 1, 0, 0, 1, 0, 1, 0, 0, 0, 0, 1, 1, 0, 1, 0, 1, 0,\n",
       "       1, 0, 1, 0, 1, 1, 0, 1, 0, 0, 1, 1, 0, 0, 0, 0, 0, 0, 1, 1, 1, 1,\n",
       "       0, 0, 0, 0, 1, 0, 1, 1, 1, 0, 0, 0, 0, 0, 0, 0, 1, 0, 0, 0, 1, 1,\n",
       "       0, 0, 0, 0, 1, 0, 0, 0, 1, 1, 0, 1, 0, 0, 0, 0, 1, 1, 1, 1, 1, 0,\n",
       "       0, 1, 0, 0, 0, 1, 0, 0, 0, 0, 1, 0, 0, 0, 0, 0, 0, 0, 1, 1, 0, 1,\n",
       "       0, 0, 0, 0, 0, 1, 1, 1, 0, 0, 0, 0, 0, 0, 0, 0, 1, 0, 1, 0, 0, 0,\n",
       "       1, 0, 0, 1, 0, 0, 0, 0, 0, 0, 0, 0, 0, 1, 0, 1, 0, 1, 0, 1, 1, 0,\n",
       "       0, 0, 1, 0, 1, 0, 0, 1, 0, 1, 1, 0, 1, 0, 0, 1, 1, 0, 0, 1, 0, 0,\n",
       "       1, 1, 1, 0, 0, 0, 0, 0, 1, 1, 0, 1, 0, 0, 0, 0, 0, 1, 0, 0, 0, 1,\n",
       "       0, 1, 0, 0, 1, 0, 1, 0, 0, 0, 0, 0, 1, 1, 1, 1, 1, 0, 1, 0, 0, 0])"
      ]
     },
     "execution_count": 42,
     "metadata": {},
     "output_type": "execute_result"
    }
   ],
   "source": [
    "y_pred = model.predict(main_test)\n",
    "y_pred"
   ]
  },
  {
   "cell_type": "code",
   "execution_count": 43,
   "id": "f1d1ff94",
   "metadata": {
    "execution": {
     "iopub.execute_input": "2022-11-03T15:16:18.948550Z",
     "iopub.status.busy": "2022-11-03T15:16:18.948129Z",
     "iopub.status.idle": "2022-11-03T15:16:18.959562Z",
     "shell.execute_reply": "2022-11-03T15:16:18.958042Z"
    },
    "papermill": {
     "duration": 0.031285,
     "end_time": "2022-11-03T15:16:18.962474",
     "exception": false,
     "start_time": "2022-11-03T15:16:18.931189",
     "status": "completed"
    },
    "tags": []
   },
   "outputs": [],
   "source": [
    "output = pd.DataFrame({'PassengerId' : Pass, 'Survived' : y_pred})\n",
    "output.to_csv('submission.csv', index = False)"
   ]
  }
 ],
 "metadata": {
  "kernelspec": {
   "display_name": "Python 3",
   "language": "python",
   "name": "python3"
  },
  "language_info": {
   "codemirror_mode": {
    "name": "ipython",
    "version": 3
   },
   "file_extension": ".py",
   "mimetype": "text/x-python",
   "name": "python",
   "nbconvert_exporter": "python",
   "pygments_lexer": "ipython3",
   "version": "3.7.12"
  },
  "papermill": {
   "default_parameters": {},
   "duration": 26.461415,
   "end_time": "2022-11-03T15:16:20.005348",
   "environment_variables": {},
   "exception": null,
   "input_path": "__notebook__.ipynb",
   "output_path": "__notebook__.ipynb",
   "parameters": {},
   "start_time": "2022-11-03T15:15:53.543933",
   "version": "2.3.4"
  }
 },
 "nbformat": 4,
 "nbformat_minor": 5
}

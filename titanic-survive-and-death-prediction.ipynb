{
 "cells": [
  {
   "cell_type": "code",
   "execution_count": 1,
   "id": "71f25590",
   "metadata": {
    "_cell_guid": "b1076dfc-b9ad-4769-8c92-a6c4dae69d19",
    "_uuid": "8f2839f25d086af736a60e9eeb907d3b93b6e0e5",
    "execution": {
     "iopub.execute_input": "2022-11-03T15:03:11.515821Z",
     "iopub.status.busy": "2022-11-03T15:03:11.514823Z",
     "iopub.status.idle": "2022-11-03T15:03:11.530632Z",
     "shell.execute_reply": "2022-11-03T15:03:11.529488Z"
    },
    "papermill": {
     "duration": 0.033358,
     "end_time": "2022-11-03T15:03:11.533226",
     "exception": false,
     "start_time": "2022-11-03T15:03:11.499868",
     "status": "completed"
    },
    "tags": []
   },
   "outputs": [
    {
     "name": "stdout",
     "output_type": "stream",
     "text": [
      "/kaggle/input/titanic/train.csv\n",
      "/kaggle/input/titanic/test.csv\n",
      "/kaggle/input/titanic/gender_submission.csv\n"
     ]
    }
   ],
   "source": [
    "# This Python 3 environment comes with many helpful analytics libraries installed\n",
    "# It is defined by the kaggle/python Docker image: https://github.com/kaggle/docker-python\n",
    "# For example, here's several helpful packages to load\n",
    "\n",
    "import numpy as np # linear algebra\n",
    "import pandas as pd # data processing, CSV file I/O (e.g. pd.read_csv)\n",
    "\n",
    "# Input data files are available in the read-only \"../input/\" directory\n",
    "# For example, running this (by clicking run or pressing Shift+Enter) will list all files under the input directory\n",
    "\n",
    "import os\n",
    "for dirname, _, filenames in os.walk('/kaggle/input'):\n",
    "    for filename in filenames:\n",
    "        print(os.path.join(dirname, filename))\n",
    "\n",
    "# You can write up to 20GB to the current directory (/kaggle/working/) that gets preserved as output when you create a version using \"Save & Run All\" \n",
    "# You can also write temporary files to /kaggle/temp/, but they won't be saved outside of the current session"
   ]
  },
  {
   "cell_type": "markdown",
   "id": "e6e68b18",
   "metadata": {
    "papermill": {
     "duration": 0.011465,
     "end_time": "2022-11-03T15:03:11.556648",
     "exception": false,
     "start_time": "2022-11-03T15:03:11.545183",
     "status": "completed"
    },
    "tags": []
   },
   "source": [
    "> # **Read Dataset**"
   ]
  },
  {
   "cell_type": "code",
   "execution_count": 2,
   "id": "5fd08145",
   "metadata": {
    "execution": {
     "iopub.execute_input": "2022-11-03T15:03:11.582322Z",
     "iopub.status.busy": "2022-11-03T15:03:11.581878Z",
     "iopub.status.idle": "2022-11-03T15:03:11.630808Z",
     "shell.execute_reply": "2022-11-03T15:03:11.629521Z"
    },
    "papermill": {
     "duration": 0.064847,
     "end_time": "2022-11-03T15:03:11.633407",
     "exception": false,
     "start_time": "2022-11-03T15:03:11.568560",
     "status": "completed"
    },
    "tags": []
   },
   "outputs": [
    {
     "data": {
      "text/html": [
       "<div>\n",
       "<style scoped>\n",
       "    .dataframe tbody tr th:only-of-type {\n",
       "        vertical-align: middle;\n",
       "    }\n",
       "\n",
       "    .dataframe tbody tr th {\n",
       "        vertical-align: top;\n",
       "    }\n",
       "\n",
       "    .dataframe thead th {\n",
       "        text-align: right;\n",
       "    }\n",
       "</style>\n",
       "<table border=\"1\" class=\"dataframe\">\n",
       "  <thead>\n",
       "    <tr style=\"text-align: right;\">\n",
       "      <th></th>\n",
       "      <th>PassengerId</th>\n",
       "      <th>Survived</th>\n",
       "      <th>Pclass</th>\n",
       "      <th>Name</th>\n",
       "      <th>Sex</th>\n",
       "      <th>Age</th>\n",
       "      <th>SibSp</th>\n",
       "      <th>Parch</th>\n",
       "      <th>Ticket</th>\n",
       "      <th>Fare</th>\n",
       "      <th>Cabin</th>\n",
       "      <th>Embarked</th>\n",
       "    </tr>\n",
       "  </thead>\n",
       "  <tbody>\n",
       "    <tr>\n",
       "      <th>0</th>\n",
       "      <td>1</td>\n",
       "      <td>0</td>\n",
       "      <td>3</td>\n",
       "      <td>Braund, Mr. Owen Harris</td>\n",
       "      <td>male</td>\n",
       "      <td>22.0</td>\n",
       "      <td>1</td>\n",
       "      <td>0</td>\n",
       "      <td>A/5 21171</td>\n",
       "      <td>7.2500</td>\n",
       "      <td>NaN</td>\n",
       "      <td>S</td>\n",
       "    </tr>\n",
       "    <tr>\n",
       "      <th>1</th>\n",
       "      <td>2</td>\n",
       "      <td>1</td>\n",
       "      <td>1</td>\n",
       "      <td>Cumings, Mrs. John Bradley (Florence Briggs Th...</td>\n",
       "      <td>female</td>\n",
       "      <td>38.0</td>\n",
       "      <td>1</td>\n",
       "      <td>0</td>\n",
       "      <td>PC 17599</td>\n",
       "      <td>71.2833</td>\n",
       "      <td>C85</td>\n",
       "      <td>C</td>\n",
       "    </tr>\n",
       "    <tr>\n",
       "      <th>2</th>\n",
       "      <td>3</td>\n",
       "      <td>1</td>\n",
       "      <td>3</td>\n",
       "      <td>Heikkinen, Miss. Laina</td>\n",
       "      <td>female</td>\n",
       "      <td>26.0</td>\n",
       "      <td>0</td>\n",
       "      <td>0</td>\n",
       "      <td>STON/O2. 3101282</td>\n",
       "      <td>7.9250</td>\n",
       "      <td>NaN</td>\n",
       "      <td>S</td>\n",
       "    </tr>\n",
       "    <tr>\n",
       "      <th>3</th>\n",
       "      <td>4</td>\n",
       "      <td>1</td>\n",
       "      <td>1</td>\n",
       "      <td>Futrelle, Mrs. Jacques Heath (Lily May Peel)</td>\n",
       "      <td>female</td>\n",
       "      <td>35.0</td>\n",
       "      <td>1</td>\n",
       "      <td>0</td>\n",
       "      <td>113803</td>\n",
       "      <td>53.1000</td>\n",
       "      <td>C123</td>\n",
       "      <td>S</td>\n",
       "    </tr>\n",
       "    <tr>\n",
       "      <th>4</th>\n",
       "      <td>5</td>\n",
       "      <td>0</td>\n",
       "      <td>3</td>\n",
       "      <td>Allen, Mr. William Henry</td>\n",
       "      <td>male</td>\n",
       "      <td>35.0</td>\n",
       "      <td>0</td>\n",
       "      <td>0</td>\n",
       "      <td>373450</td>\n",
       "      <td>8.0500</td>\n",
       "      <td>NaN</td>\n",
       "      <td>S</td>\n",
       "    </tr>\n",
       "  </tbody>\n",
       "</table>\n",
       "</div>"
      ],
      "text/plain": [
       "   PassengerId  Survived  Pclass  \\\n",
       "0            1         0       3   \n",
       "1            2         1       1   \n",
       "2            3         1       3   \n",
       "3            4         1       1   \n",
       "4            5         0       3   \n",
       "\n",
       "                                                Name     Sex   Age  SibSp  \\\n",
       "0                            Braund, Mr. Owen Harris    male  22.0      1   \n",
       "1  Cumings, Mrs. John Bradley (Florence Briggs Th...  female  38.0      1   \n",
       "2                             Heikkinen, Miss. Laina  female  26.0      0   \n",
       "3       Futrelle, Mrs. Jacques Heath (Lily May Peel)  female  35.0      1   \n",
       "4                           Allen, Mr. William Henry    male  35.0      0   \n",
       "\n",
       "   Parch            Ticket     Fare Cabin Embarked  \n",
       "0      0         A/5 21171   7.2500   NaN        S  \n",
       "1      0          PC 17599  71.2833   C85        C  \n",
       "2      0  STON/O2. 3101282   7.9250   NaN        S  \n",
       "3      0            113803  53.1000  C123        S  \n",
       "4      0            373450   8.0500   NaN        S  "
      ]
     },
     "execution_count": 2,
     "metadata": {},
     "output_type": "execute_result"
    }
   ],
   "source": [
    "train_data = pd.read_csv('/kaggle/input/titanic/train.csv')\n",
    "train_data.head()"
   ]
  },
  {
   "cell_type": "code",
   "execution_count": 3,
   "id": "61e1117e",
   "metadata": {
    "execution": {
     "iopub.execute_input": "2022-11-03T15:03:11.668479Z",
     "iopub.status.busy": "2022-11-03T15:03:11.667796Z",
     "iopub.status.idle": "2022-11-03T15:03:11.675565Z",
     "shell.execute_reply": "2022-11-03T15:03:11.674572Z"
    },
    "papermill": {
     "duration": 0.029616,
     "end_time": "2022-11-03T15:03:11.678083",
     "exception": false,
     "start_time": "2022-11-03T15:03:11.648467",
     "status": "completed"
    },
    "tags": []
   },
   "outputs": [
    {
     "data": {
      "text/plain": [
       "(891, 12)"
      ]
     },
     "execution_count": 3,
     "metadata": {},
     "output_type": "execute_result"
    }
   ],
   "source": [
    "train_data.shape"
   ]
  },
  {
   "cell_type": "code",
   "execution_count": 4,
   "id": "4d81cc35",
   "metadata": {
    "execution": {
     "iopub.execute_input": "2022-11-03T15:03:11.709947Z",
     "iopub.status.busy": "2022-11-03T15:03:11.709116Z",
     "iopub.status.idle": "2022-11-03T15:03:11.737188Z",
     "shell.execute_reply": "2022-11-03T15:03:11.736010Z"
    },
    "papermill": {
     "duration": 0.046459,
     "end_time": "2022-11-03T15:03:11.739820",
     "exception": false,
     "start_time": "2022-11-03T15:03:11.693361",
     "status": "completed"
    },
    "tags": []
   },
   "outputs": [
    {
     "data": {
      "text/html": [
       "<div>\n",
       "<style scoped>\n",
       "    .dataframe tbody tr th:only-of-type {\n",
       "        vertical-align: middle;\n",
       "    }\n",
       "\n",
       "    .dataframe tbody tr th {\n",
       "        vertical-align: top;\n",
       "    }\n",
       "\n",
       "    .dataframe thead th {\n",
       "        text-align: right;\n",
       "    }\n",
       "</style>\n",
       "<table border=\"1\" class=\"dataframe\">\n",
       "  <thead>\n",
       "    <tr style=\"text-align: right;\">\n",
       "      <th></th>\n",
       "      <th>PassengerId</th>\n",
       "      <th>Pclass</th>\n",
       "      <th>Name</th>\n",
       "      <th>Sex</th>\n",
       "      <th>Age</th>\n",
       "      <th>SibSp</th>\n",
       "      <th>Parch</th>\n",
       "      <th>Ticket</th>\n",
       "      <th>Fare</th>\n",
       "      <th>Cabin</th>\n",
       "      <th>Embarked</th>\n",
       "    </tr>\n",
       "  </thead>\n",
       "  <tbody>\n",
       "    <tr>\n",
       "      <th>0</th>\n",
       "      <td>892</td>\n",
       "      <td>3</td>\n",
       "      <td>Kelly, Mr. James</td>\n",
       "      <td>male</td>\n",
       "      <td>34.5</td>\n",
       "      <td>0</td>\n",
       "      <td>0</td>\n",
       "      <td>330911</td>\n",
       "      <td>7.8292</td>\n",
       "      <td>NaN</td>\n",
       "      <td>Q</td>\n",
       "    </tr>\n",
       "    <tr>\n",
       "      <th>1</th>\n",
       "      <td>893</td>\n",
       "      <td>3</td>\n",
       "      <td>Wilkes, Mrs. James (Ellen Needs)</td>\n",
       "      <td>female</td>\n",
       "      <td>47.0</td>\n",
       "      <td>1</td>\n",
       "      <td>0</td>\n",
       "      <td>363272</td>\n",
       "      <td>7.0000</td>\n",
       "      <td>NaN</td>\n",
       "      <td>S</td>\n",
       "    </tr>\n",
       "    <tr>\n",
       "      <th>2</th>\n",
       "      <td>894</td>\n",
       "      <td>2</td>\n",
       "      <td>Myles, Mr. Thomas Francis</td>\n",
       "      <td>male</td>\n",
       "      <td>62.0</td>\n",
       "      <td>0</td>\n",
       "      <td>0</td>\n",
       "      <td>240276</td>\n",
       "      <td>9.6875</td>\n",
       "      <td>NaN</td>\n",
       "      <td>Q</td>\n",
       "    </tr>\n",
       "    <tr>\n",
       "      <th>3</th>\n",
       "      <td>895</td>\n",
       "      <td>3</td>\n",
       "      <td>Wirz, Mr. Albert</td>\n",
       "      <td>male</td>\n",
       "      <td>27.0</td>\n",
       "      <td>0</td>\n",
       "      <td>0</td>\n",
       "      <td>315154</td>\n",
       "      <td>8.6625</td>\n",
       "      <td>NaN</td>\n",
       "      <td>S</td>\n",
       "    </tr>\n",
       "    <tr>\n",
       "      <th>4</th>\n",
       "      <td>896</td>\n",
       "      <td>3</td>\n",
       "      <td>Hirvonen, Mrs. Alexander (Helga E Lindqvist)</td>\n",
       "      <td>female</td>\n",
       "      <td>22.0</td>\n",
       "      <td>1</td>\n",
       "      <td>1</td>\n",
       "      <td>3101298</td>\n",
       "      <td>12.2875</td>\n",
       "      <td>NaN</td>\n",
       "      <td>S</td>\n",
       "    </tr>\n",
       "  </tbody>\n",
       "</table>\n",
       "</div>"
      ],
      "text/plain": [
       "   PassengerId  Pclass                                          Name     Sex  \\\n",
       "0          892       3                              Kelly, Mr. James    male   \n",
       "1          893       3              Wilkes, Mrs. James (Ellen Needs)  female   \n",
       "2          894       2                     Myles, Mr. Thomas Francis    male   \n",
       "3          895       3                              Wirz, Mr. Albert    male   \n",
       "4          896       3  Hirvonen, Mrs. Alexander (Helga E Lindqvist)  female   \n",
       "\n",
       "    Age  SibSp  Parch   Ticket     Fare Cabin Embarked  \n",
       "0  34.5      0      0   330911   7.8292   NaN        Q  \n",
       "1  47.0      1      0   363272   7.0000   NaN        S  \n",
       "2  62.0      0      0   240276   9.6875   NaN        Q  \n",
       "3  27.0      0      0   315154   8.6625   NaN        S  \n",
       "4  22.0      1      1  3101298  12.2875   NaN        S  "
      ]
     },
     "execution_count": 4,
     "metadata": {},
     "output_type": "execute_result"
    }
   ],
   "source": [
    "test_data = pd.read_csv('/kaggle/input/titanic/test.csv')\n",
    "test_data.head()"
   ]
  },
  {
   "cell_type": "code",
   "execution_count": 5,
   "id": "ae10b771",
   "metadata": {
    "execution": {
     "iopub.execute_input": "2022-11-03T15:03:11.766500Z",
     "iopub.status.busy": "2022-11-03T15:03:11.765853Z",
     "iopub.status.idle": "2022-11-03T15:03:11.772562Z",
     "shell.execute_reply": "2022-11-03T15:03:11.771518Z"
    },
    "papermill": {
     "duration": 0.02264,
     "end_time": "2022-11-03T15:03:11.774808",
     "exception": false,
     "start_time": "2022-11-03T15:03:11.752168",
     "status": "completed"
    },
    "tags": []
   },
   "outputs": [
    {
     "data": {
      "text/plain": [
       "(418, 11)"
      ]
     },
     "execution_count": 5,
     "metadata": {},
     "output_type": "execute_result"
    }
   ],
   "source": [
    "test_data.shape"
   ]
  },
  {
   "cell_type": "code",
   "execution_count": 6,
   "id": "3a98ae89",
   "metadata": {
    "execution": {
     "iopub.execute_input": "2022-11-03T15:03:11.802323Z",
     "iopub.status.busy": "2022-11-03T15:03:11.801075Z",
     "iopub.status.idle": "2022-11-03T15:03:11.811755Z",
     "shell.execute_reply": "2022-11-03T15:03:11.810510Z"
    },
    "papermill": {
     "duration": 0.026727,
     "end_time": "2022-11-03T15:03:11.814104",
     "exception": false,
     "start_time": "2022-11-03T15:03:11.787377",
     "status": "completed"
    },
    "tags": []
   },
   "outputs": [
    {
     "data": {
      "text/plain": [
       "(418,)"
      ]
     },
     "execution_count": 6,
     "metadata": {},
     "output_type": "execute_result"
    }
   ],
   "source": [
    "Pass = test_data['PassengerId']\n",
    "Pass.shape"
   ]
  },
  {
   "cell_type": "markdown",
   "id": "585988ca",
   "metadata": {
    "papermill": {
     "duration": 0.012519,
     "end_time": "2022-11-03T15:03:11.839361",
     "exception": false,
     "start_time": "2022-11-03T15:03:11.826842",
     "status": "completed"
    },
    "tags": []
   },
   "source": [
    "> # **Feature Engineering**"
   ]
  },
  {
   "cell_type": "markdown",
   "id": "f7c74146",
   "metadata": {
    "papermill": {
     "duration": 0.012045,
     "end_time": "2022-11-03T15:03:11.864064",
     "exception": false,
     "start_time": "2022-11-03T15:03:11.852019",
     "status": "completed"
    },
    "tags": []
   },
   "source": [
    "## Droping unusual columns for both train and test dataset"
   ]
  },
  {
   "cell_type": "code",
   "execution_count": 7,
   "id": "0532514b",
   "metadata": {
    "execution": {
     "iopub.execute_input": "2022-11-03T15:03:11.891222Z",
     "iopub.status.busy": "2022-11-03T15:03:11.890503Z",
     "iopub.status.idle": "2022-11-03T15:03:11.901880Z",
     "shell.execute_reply": "2022-11-03T15:03:11.900807Z"
    },
    "papermill": {
     "duration": 0.027991,
     "end_time": "2022-11-03T15:03:11.904512",
     "exception": false,
     "start_time": "2022-11-03T15:03:11.876521",
     "status": "completed"
    },
    "tags": []
   },
   "outputs": [],
   "source": [
    "train_data = train_data.drop(columns = ['PassengerId', 'Name'])\n",
    "test_data = test_data.drop(columns = ['PassengerId', 'Name'])"
   ]
  },
  {
   "cell_type": "markdown",
   "id": "ce29f952",
   "metadata": {
    "papermill": {
     "duration": 0.011973,
     "end_time": "2022-11-03T15:03:11.928817",
     "exception": false,
     "start_time": "2022-11-03T15:03:11.916844",
     "status": "completed"
    },
    "tags": []
   },
   "source": [
    "## Checking missing value for both train and test data"
   ]
  },
  {
   "cell_type": "code",
   "execution_count": 8,
   "id": "9b82aeb1",
   "metadata": {
    "execution": {
     "iopub.execute_input": "2022-11-03T15:03:11.955848Z",
     "iopub.status.busy": "2022-11-03T15:03:11.954631Z",
     "iopub.status.idle": "2022-11-03T15:03:11.970164Z",
     "shell.execute_reply": "2022-11-03T15:03:11.968816Z"
    },
    "papermill": {
     "duration": 0.032242,
     "end_time": "2022-11-03T15:03:11.973391",
     "exception": false,
     "start_time": "2022-11-03T15:03:11.941149",
     "status": "completed"
    },
    "tags": []
   },
   "outputs": [
    {
     "name": "stdout",
     "output_type": "stream",
     "text": [
      "Age 177 float64\n",
      "Cabin 687 object\n",
      "Embarked 2 object\n"
     ]
    }
   ],
   "source": [
    "missing_train_values = [col for col in train_data.columns if train_data[col].isna().sum() > 0]\n",
    "for col in missing_train_values:\n",
    "    print(col, train_data[col].isna().sum(), train_data[col].dtypes)"
   ]
  },
  {
   "cell_type": "code",
   "execution_count": 9,
   "id": "7c3a0db9",
   "metadata": {
    "execution": {
     "iopub.execute_input": "2022-11-03T15:03:12.009719Z",
     "iopub.status.busy": "2022-11-03T15:03:12.008815Z",
     "iopub.status.idle": "2022-11-03T15:03:12.021532Z",
     "shell.execute_reply": "2022-11-03T15:03:12.019846Z"
    },
    "papermill": {
     "duration": 0.034772,
     "end_time": "2022-11-03T15:03:12.024162",
     "exception": false,
     "start_time": "2022-11-03T15:03:11.989390",
     "status": "completed"
    },
    "tags": []
   },
   "outputs": [
    {
     "name": "stdout",
     "output_type": "stream",
     "text": [
      "Age 86 float64\n",
      "Fare 1 float64\n",
      "Cabin 327 object\n"
     ]
    }
   ],
   "source": [
    "missing_test_values = [col for col in test_data.columns if test_data[col].isna().sum() > 0]\n",
    "for col in missing_test_values:\n",
    "    print(col, test_data[col].isna().sum(), test_data[col].dtypes)"
   ]
  },
  {
   "cell_type": "markdown",
   "id": "d698cd1e",
   "metadata": {
    "papermill": {
     "duration": 0.015924,
     "end_time": "2022-11-03T15:03:12.052589",
     "exception": false,
     "start_time": "2022-11-03T15:03:12.036665",
     "status": "completed"
    },
    "tags": []
   },
   "source": [
    "## Checking skewness of train data"
   ]
  },
  {
   "cell_type": "code",
   "execution_count": 10,
   "id": "1d24c470",
   "metadata": {
    "execution": {
     "iopub.execute_input": "2022-11-03T15:03:12.080797Z",
     "iopub.status.busy": "2022-11-03T15:03:12.080057Z",
     "iopub.status.idle": "2022-11-03T15:03:13.634388Z",
     "shell.execute_reply": "2022-11-03T15:03:13.633205Z"
    },
    "papermill": {
     "duration": 1.571458,
     "end_time": "2022-11-03T15:03:13.637243",
     "exception": false,
     "start_time": "2022-11-03T15:03:12.065785",
     "status": "completed"
    },
    "tags": []
   },
   "outputs": [
    {
     "name": "stderr",
     "output_type": "stream",
     "text": [
      "/opt/conda/lib/python3.7/site-packages/seaborn/distributions.py:2619: FutureWarning: `distplot` is a deprecated function and will be removed in a future version. Please adapt your code to use either `displot` (a figure-level function with similar flexibility) or `histplot` (an axes-level function for histograms).\n",
      "  warnings.warn(msg, FutureWarning)\n"
     ]
    },
    {
     "data": {
      "text/plain": [
       "<AxesSubplot:xlabel='Age', ylabel='Density'>"
      ]
     },
     "execution_count": 10,
     "metadata": {},
     "output_type": "execute_result"
    },
    {
     "data": {
      "image/png": "[encoded data removed]",
      "text/plain": [
       "<Figure size 720x432 with 1 Axes>"
      ]
     },
     "metadata": {
      "needs_background": "light"
     },
     "output_type": "display_data"
    }
   ],
   "source": [
    "import seaborn as sns\n",
    "import matplotlib.pyplot as plt\n",
    "fig, ax = plt.subplots(figsize = (10, 6))\n",
    "sns.distplot(train_data['Age'])"
   ]
  },
  {
   "cell_type": "markdown",
   "id": "4a0ce15b",
   "metadata": {
    "papermill": {
     "duration": 0.012714,
     "end_time": "2022-11-03T15:03:13.663382",
     "exception": false,
     "start_time": "2022-11-03T15:03:13.650668",
     "status": "completed"
    },
    "tags": []
   },
   "source": [
    "## Filling missing value by median in train and test dataset"
   ]
  },
  {
   "cell_type": "code",
   "execution_count": 11,
   "id": "421b0d5e",
   "metadata": {
    "execution": {
     "iopub.execute_input": "2022-11-03T15:03:13.691113Z",
     "iopub.status.busy": "2022-11-03T15:03:13.690718Z",
     "iopub.status.idle": "2022-11-03T15:03:14.097669Z",
     "shell.execute_reply": "2022-11-03T15:03:14.096465Z"
    },
    "papermill": {
     "duration": 0.424205,
     "end_time": "2022-11-03T15:03:14.100565",
     "exception": false,
     "start_time": "2022-11-03T15:03:13.676360",
     "status": "completed"
    },
    "tags": []
   },
   "outputs": [],
   "source": [
    "from sklearn.impute import SimpleImputer\n",
    "train_imputer = SimpleImputer(missing_values = np.nan, strategy = 'median')\n",
    "train_imputer.fit(train_data[['Age']])\n",
    "train_data[['Age']] = train_imputer.transform(train_data[['Age']])"
   ]
  },
  {
   "cell_type": "code",
   "execution_count": 12,
   "id": "8c68a7ec",
   "metadata": {
    "execution": {
     "iopub.execute_input": "2022-11-03T15:03:14.129214Z",
     "iopub.status.busy": "2022-11-03T15:03:14.128187Z",
     "iopub.status.idle": "2022-11-03T15:03:14.140980Z",
     "shell.execute_reply": "2022-11-03T15:03:14.139854Z"
    },
    "papermill": {
     "duration": 0.029953,
     "end_time": "2022-11-03T15:03:14.143701",
     "exception": false,
     "start_time": "2022-11-03T15:03:14.113748",
     "status": "completed"
    },
    "tags": []
   },
   "outputs": [],
   "source": [
    "test_imputer = SimpleImputer(missing_values = np.nan, strategy = 'median')\n",
    "test_imputer.fit(test_data[['Age', 'Fare']])\n",
    "test_data[['Age', 'Fare']] = test_imputer.transform(test_data[['Age', 'Fare']])"
   ]
  },
  {
   "cell_type": "markdown",
   "id": "ca19212d",
   "metadata": {
    "papermill": {
     "duration": 0.013039,
     "end_time": "2022-11-03T15:03:14.169872",
     "exception": false,
     "start_time": "2022-11-03T15:03:14.156833",
     "status": "completed"
    },
    "tags": []
   },
   "source": [
    "## Filling missing categorical value by most_frequent in train and test data"
   ]
  },
  {
   "cell_type": "code",
   "execution_count": 13,
   "id": "87b7904e",
   "metadata": {
    "execution": {
     "iopub.execute_input": "2022-11-03T15:03:14.198048Z",
     "iopub.status.busy": "2022-11-03T15:03:14.197652Z",
     "iopub.status.idle": "2022-11-03T15:03:14.212685Z",
     "shell.execute_reply": "2022-11-03T15:03:14.211498Z"
    },
    "papermill": {
     "duration": 0.032133,
     "end_time": "2022-11-03T15:03:14.215169",
     "exception": false,
     "start_time": "2022-11-03T15:03:14.183036",
     "status": "completed"
    },
    "tags": []
   },
   "outputs": [],
   "source": [
    "from sklearn.impute import SimpleImputer\n",
    "object_train_data = [col for col in train_data.columns if (train_data[col].dtypes == 'object' and train_data[col].isna().sum() > 0)]\n",
    "imputer_train_object = SimpleImputer(missing_values = np.nan, strategy = 'most_frequent')\n",
    "imputer_train_object.fit(train_data[object_train_data])\n",
    "train_data[object_train_data] = imputer_train_object.transform(train_data[object_train_data])"
   ]
  },
  {
   "cell_type": "code",
   "execution_count": 14,
   "id": "4fdf0c00",
   "metadata": {
    "execution": {
     "iopub.execute_input": "2022-11-03T15:03:14.243970Z",
     "iopub.status.busy": "2022-11-03T15:03:14.243579Z",
     "iopub.status.idle": "2022-11-03T15:03:14.257831Z",
     "shell.execute_reply": "2022-11-03T15:03:14.256632Z"
    },
    "papermill": {
     "duration": 0.031226,
     "end_time": "2022-11-03T15:03:14.260234",
     "exception": false,
     "start_time": "2022-11-03T15:03:14.229008",
     "status": "completed"
    },
    "tags": []
   },
   "outputs": [],
   "source": [
    "object_test_data = [col for col in test_data.columns if (test_data[col].dtypes == 'object' and test_data[col].isna().sum() > 0)]\n",
    "imputer_test_mode = SimpleImputer(missing_values = np.nan, strategy = 'most_frequent')\n",
    "imputer_test_mode.fit(test_data[object_test_data])\n",
    "test_data[object_test_data] = imputer_test_mode.transform(test_data[object_test_data])"
   ]
  },
  {
   "cell_type": "markdown",
   "id": "30024289",
   "metadata": {
    "papermill": {
     "duration": 0.013099,
     "end_time": "2022-11-03T15:03:14.287124",
     "exception": false,
     "start_time": "2022-11-03T15:03:14.274025",
     "status": "completed"
    },
    "tags": []
   },
   "source": [
    "### Checking missing value"
   ]
  },
  {
   "cell_type": "code",
   "execution_count": 15,
   "id": "9a86e1f4",
   "metadata": {
    "execution": {
     "iopub.execute_input": "2022-11-03T15:03:14.315955Z",
     "iopub.status.busy": "2022-11-03T15:03:14.315510Z",
     "iopub.status.idle": "2022-11-03T15:03:14.325289Z",
     "shell.execute_reply": "2022-11-03T15:03:14.324464Z"
    },
    "papermill": {
     "duration": 0.026854,
     "end_time": "2022-11-03T15:03:14.327495",
     "exception": false,
     "start_time": "2022-11-03T15:03:14.300641",
     "status": "completed"
    },
    "tags": []
   },
   "outputs": [
    {
     "data": {
      "text/plain": [
       "0"
      ]
     },
     "execution_count": 15,
     "metadata": {},
     "output_type": "execute_result"
    }
   ],
   "source": [
    "train_data.isna().sum().sum()"
   ]
  },
  {
   "cell_type": "code",
   "execution_count": 16,
   "id": "a7a20404",
   "metadata": {
    "execution": {
     "iopub.execute_input": "2022-11-03T15:03:14.355862Z",
     "iopub.status.busy": "2022-11-03T15:03:14.355479Z",
     "iopub.status.idle": "2022-11-03T15:03:14.363976Z",
     "shell.execute_reply": "2022-11-03T15:03:14.362903Z"
    },
    "papermill": {
     "duration": 0.025723,
     "end_time": "2022-11-03T15:03:14.366485",
     "exception": false,
     "start_time": "2022-11-03T15:03:14.340762",
     "status": "completed"
    },
    "tags": []
   },
   "outputs": [
    {
     "data": {
      "text/plain": [
       "0"
      ]
     },
     "execution_count": 16,
     "metadata": {},
     "output_type": "execute_result"
    }
   ],
   "source": [
    "test_data.isna().sum().sum()"
   ]
  },
  {
   "cell_type": "markdown",
   "id": "3408fbad",
   "metadata": {
    "papermill": {
     "duration": 0.013292,
     "end_time": "2022-11-03T15:03:14.393506",
     "exception": false,
     "start_time": "2022-11-03T15:03:14.380214",
     "status": "completed"
    },
    "tags": []
   },
   "source": [
    "## Find no of unique categorical data of train data"
   ]
  },
  {
   "cell_type": "code",
   "execution_count": 17,
   "id": "c7ef812a",
   "metadata": {
    "execution": {
     "iopub.execute_input": "2022-11-03T15:03:14.425239Z",
     "iopub.status.busy": "2022-11-03T15:03:14.424522Z",
     "iopub.status.idle": "2022-11-03T15:03:14.432259Z",
     "shell.execute_reply": "2022-11-03T15:03:14.431398Z"
    },
    "papermill": {
     "duration": 0.027663,
     "end_time": "2022-11-03T15:03:14.434710",
     "exception": false,
     "start_time": "2022-11-03T15:03:14.407047",
     "status": "completed"
    },
    "tags": []
   },
   "outputs": [
    {
     "name": "stdout",
     "output_type": "stream",
     "text": [
      "Sex : 2\n",
      "Ticket : 681\n",
      "Cabin : 147\n",
      "Embarked : 3\n"
     ]
    }
   ],
   "source": [
    "for i in train_data.columns:\n",
    "    if train_data[i].dtypes == 'object':\n",
    "        print(f\"{i} : {train_data[i].nunique()}\")"
   ]
  },
  {
   "cell_type": "code",
   "execution_count": 18,
   "id": "587d66bf",
   "metadata": {
    "execution": {
     "iopub.execute_input": "2022-11-03T15:03:14.462992Z",
     "iopub.status.busy": "2022-11-03T15:03:14.462608Z",
     "iopub.status.idle": "2022-11-03T15:03:14.471177Z",
     "shell.execute_reply": "2022-11-03T15:03:14.470351Z"
    },
    "papermill": {
     "duration": 0.02545,
     "end_time": "2022-11-03T15:03:14.473370",
     "exception": false,
     "start_time": "2022-11-03T15:03:14.447920",
     "status": "completed"
    },
    "tags": []
   },
   "outputs": [
    {
     "data": {
      "text/plain": [
       "['Ticket', 'Cabin']"
      ]
     },
     "execution_count": 18,
     "metadata": {},
     "output_type": "execute_result"
    }
   ],
   "source": [
    "Label_train_data = [col for col in train_data.columns if (train_data[col].dtypes == 'object' and train_data[col].nunique() > 10)]\n",
    "Label_train_data"
   ]
  },
  {
   "cell_type": "code",
   "execution_count": 19,
   "id": "e51827ae",
   "metadata": {
    "execution": {
     "iopub.execute_input": "2022-11-03T15:03:14.502650Z",
     "iopub.status.busy": "2022-11-03T15:03:14.502203Z",
     "iopub.status.idle": "2022-11-03T15:03:14.511902Z",
     "shell.execute_reply": "2022-11-03T15:03:14.510611Z"
    },
    "papermill": {
     "duration": 0.02679,
     "end_time": "2022-11-03T15:03:14.514073",
     "exception": false,
     "start_time": "2022-11-03T15:03:14.487283",
     "status": "completed"
    },
    "tags": []
   },
   "outputs": [
    {
     "data": {
      "text/plain": [
       "['Sex', 'Embarked']"
      ]
     },
     "execution_count": 19,
     "metadata": {},
     "output_type": "execute_result"
    }
   ],
   "source": [
    "OneHot_train_data = [col for col in train_data.columns if (train_data[col].dtypes == 'object' and train_data[col].nunique() <= 10)]\n",
    "OneHot_train_data"
   ]
  },
  {
   "cell_type": "code",
   "execution_count": 20,
   "id": "037931e9",
   "metadata": {
    "execution": {
     "iopub.execute_input": "2022-11-03T15:03:14.543206Z",
     "iopub.status.busy": "2022-11-03T15:03:14.542701Z",
     "iopub.status.idle": "2022-11-03T15:03:14.554906Z",
     "shell.execute_reply": "2022-11-03T15:03:14.553680Z"
    },
    "papermill": {
     "duration": 0.029838,
     "end_time": "2022-11-03T15:03:14.557554",
     "exception": false,
     "start_time": "2022-11-03T15:03:14.527716",
     "status": "completed"
    },
    "tags": []
   },
   "outputs": [],
   "source": [
    "from sklearn.preprocessing import LabelEncoder\n",
    "L = train_data[Label_train_data] = train_data[Label_train_data].apply(LabelEncoder().fit_transform)\n",
    "L = np.array(L)"
   ]
  },
  {
   "cell_type": "code",
   "execution_count": 21,
   "id": "e2107bb9",
   "metadata": {
    "execution": {
     "iopub.execute_input": "2022-11-03T15:03:14.586623Z",
     "iopub.status.busy": "2022-11-03T15:03:14.586144Z",
     "iopub.status.idle": "2022-11-03T15:03:14.593934Z",
     "shell.execute_reply": "2022-11-03T15:03:14.592512Z"
    },
    "papermill": {
     "duration": 0.025459,
     "end_time": "2022-11-03T15:03:14.596487",
     "exception": false,
     "start_time": "2022-11-03T15:03:14.571028",
     "status": "completed"
    },
    "tags": []
   },
   "outputs": [
    {
     "data": {
      "text/plain": [
       "(891, 2)"
      ]
     },
     "execution_count": 21,
     "metadata": {},
     "output_type": "execute_result"
    }
   ],
   "source": [
    "L.shape"
   ]
  },
  {
   "cell_type": "code",
   "execution_count": 22,
   "id": "32dd5ea7",
   "metadata": {
    "execution": {
     "iopub.execute_input": "2022-11-03T15:03:14.625986Z",
     "iopub.status.busy": "2022-11-03T15:03:14.625598Z",
     "iopub.status.idle": "2022-11-03T15:03:14.636730Z",
     "shell.execute_reply": "2022-11-03T15:03:14.635623Z"
    },
    "papermill": {
     "duration": 0.028736,
     "end_time": "2022-11-03T15:03:14.639297",
     "exception": false,
     "start_time": "2022-11-03T15:03:14.610561",
     "status": "completed"
    },
    "tags": []
   },
   "outputs": [],
   "source": [
    "new_data = pd.get_dummies(train_data, columns=OneHot_train_data)"
   ]
  },
  {
   "cell_type": "code",
   "execution_count": 23,
   "id": "c35a9028",
   "metadata": {
    "execution": {
     "iopub.execute_input": "2022-11-03T15:03:14.668787Z",
     "iopub.status.busy": "2022-11-03T15:03:14.667957Z",
     "iopub.status.idle": "2022-11-03T15:03:14.675271Z",
     "shell.execute_reply": "2022-11-03T15:03:14.674109Z"
    },
    "papermill": {
     "duration": 0.024698,
     "end_time": "2022-11-03T15:03:14.677803",
     "exception": false,
     "start_time": "2022-11-03T15:03:14.653105",
     "status": "completed"
    },
    "tags": []
   },
   "outputs": [],
   "source": [
    "X = new_data.iloc[:, 1:].values\n",
    "y = new_data.iloc[:, 0]"
   ]
  },
  {
   "cell_type": "code",
   "execution_count": 24,
   "id": "aa3c9420",
   "metadata": {
    "execution": {
     "iopub.execute_input": "2022-11-03T15:03:14.707503Z",
     "iopub.status.busy": "2022-11-03T15:03:14.706872Z",
     "iopub.status.idle": "2022-11-03T15:03:14.710913Z",
     "shell.execute_reply": "2022-11-03T15:03:14.710142Z"
    },
    "papermill": {
     "duration": 0.021245,
     "end_time": "2022-11-03T15:03:14.712979",
     "exception": false,
     "start_time": "2022-11-03T15:03:14.691734",
     "status": "completed"
    },
    "tags": []
   },
   "outputs": [],
   "source": [
    "y = np.array(y)"
   ]
  },
  {
   "cell_type": "code",
   "execution_count": 25,
   "id": "555a04fc",
   "metadata": {
    "execution": {
     "iopub.execute_input": "2022-11-03T15:03:14.742413Z",
     "iopub.status.busy": "2022-11-03T15:03:14.741728Z",
     "iopub.status.idle": "2022-11-03T15:03:14.747882Z",
     "shell.execute_reply": "2022-11-03T15:03:14.746731Z"
    },
    "papermill": {
     "duration": 0.023598,
     "end_time": "2022-11-03T15:03:14.750161",
     "exception": false,
     "start_time": "2022-11-03T15:03:14.726563",
     "status": "completed"
    },
    "tags": []
   },
   "outputs": [
    {
     "data": {
      "text/plain": [
       "(891, 12)"
      ]
     },
     "execution_count": 25,
     "metadata": {},
     "output_type": "execute_result"
    }
   ],
   "source": [
    "X.shape"
   ]
  },
  {
   "cell_type": "code",
   "execution_count": 26,
   "id": "6087f704",
   "metadata": {
    "execution": {
     "iopub.execute_input": "2022-11-03T15:03:14.781048Z",
     "iopub.status.busy": "2022-11-03T15:03:14.780406Z",
     "iopub.status.idle": "2022-11-03T15:03:14.787004Z",
     "shell.execute_reply": "2022-11-03T15:03:14.786137Z"
    },
    "papermill": {
     "duration": 0.024884,
     "end_time": "2022-11-03T15:03:14.789201",
     "exception": false,
     "start_time": "2022-11-03T15:03:14.764317",
     "status": "completed"
    },
    "tags": []
   },
   "outputs": [
    {
     "data": {
      "text/plain": [
       "array([[  3.,  22.,   1., ...,   1., 523.,  47.],\n",
       "       [  1.,  38.,   1., ...,   0., 596.,  81.],\n",
       "       [  3.,  26.,   0., ...,   1., 669.,  47.],\n",
       "       ...,\n",
       "       [  3.,  28.,   1., ...,   1., 675.,  47.],\n",
       "       [  1.,  26.,   0., ...,   0.,   8.,  60.],\n",
       "       [  3.,  32.,   0., ...,   0., 466.,  47.]])"
      ]
     },
     "execution_count": 26,
     "metadata": {},
     "output_type": "execute_result"
    }
   ],
   "source": [
    "main_train = np.concatenate((X, L), axis = 1)\n",
    "main_train"
   ]
  },
  {
   "cell_type": "code",
   "execution_count": 27,
   "id": "4353ec57",
   "metadata": {
    "execution": {
     "iopub.execute_input": "2022-11-03T15:03:14.819142Z",
     "iopub.status.busy": "2022-11-03T15:03:14.818557Z",
     "iopub.status.idle": "2022-11-03T15:03:14.824865Z",
     "shell.execute_reply": "2022-11-03T15:03:14.823747Z"
    },
    "papermill": {
     "duration": 0.023811,
     "end_time": "2022-11-03T15:03:14.827227",
     "exception": false,
     "start_time": "2022-11-03T15:03:14.803416",
     "status": "completed"
    },
    "tags": []
   },
   "outputs": [
    {
     "data": {
      "text/plain": [
       "(891, 14)"
      ]
     },
     "execution_count": 27,
     "metadata": {},
     "output_type": "execute_result"
    }
   ],
   "source": [
    "main_train.shape"
   ]
  },
  {
   "cell_type": "code",
   "execution_count": 28,
   "id": "d4730158",
   "metadata": {
    "execution": {
     "iopub.execute_input": "2022-11-03T15:03:14.857030Z",
     "iopub.status.busy": "2022-11-03T15:03:14.856589Z",
     "iopub.status.idle": "2022-11-03T15:03:14.862632Z",
     "shell.execute_reply": "2022-11-03T15:03:14.861823Z"
    },
    "papermill": {
     "duration": 0.023262,
     "end_time": "2022-11-03T15:03:14.864645",
     "exception": false,
     "start_time": "2022-11-03T15:03:14.841383",
     "status": "completed"
    },
    "tags": []
   },
   "outputs": [
    {
     "data": {
      "text/plain": [
       "numpy.ndarray"
      ]
     },
     "execution_count": 28,
     "metadata": {},
     "output_type": "execute_result"
    }
   ],
   "source": [
    "type(main_train)"
   ]
  },
  {
   "cell_type": "code",
   "execution_count": 29,
   "id": "caa8d4f7",
   "metadata": {
    "execution": {
     "iopub.execute_input": "2022-11-03T15:03:14.895024Z",
     "iopub.status.busy": "2022-11-03T15:03:14.894352Z",
     "iopub.status.idle": "2022-11-03T15:03:14.900415Z",
     "shell.execute_reply": "2022-11-03T15:03:14.899545Z"
    },
    "papermill": {
     "duration": 0.023998,
     "end_time": "2022-11-03T15:03:14.902680",
     "exception": false,
     "start_time": "2022-11-03T15:03:14.878682",
     "status": "completed"
    },
    "tags": []
   },
   "outputs": [
    {
     "data": {
      "text/plain": [
       "numpy.ndarray"
      ]
     },
     "execution_count": 29,
     "metadata": {},
     "output_type": "execute_result"
    }
   ],
   "source": [
    "type(y)"
   ]
  },
  {
   "cell_type": "markdown",
   "id": "83f68bc0",
   "metadata": {
    "papermill": {
     "duration": 0.013837,
     "end_time": "2022-11-03T15:03:14.930748",
     "exception": false,
     "start_time": "2022-11-03T15:03:14.916911",
     "status": "completed"
    },
    "tags": []
   },
   "source": [
    "## Find no of unique categorical data of test data"
   ]
  },
  {
   "cell_type": "code",
   "execution_count": 30,
   "id": "b5d85c38",
   "metadata": {
    "execution": {
     "iopub.execute_input": "2022-11-03T15:03:14.961217Z",
     "iopub.status.busy": "2022-11-03T15:03:14.960058Z",
     "iopub.status.idle": "2022-11-03T15:03:14.968766Z",
     "shell.execute_reply": "2022-11-03T15:03:14.967946Z"
    },
    "papermill": {
     "duration": 0.026026,
     "end_time": "2022-11-03T15:03:14.970800",
     "exception": false,
     "start_time": "2022-11-03T15:03:14.944774",
     "status": "completed"
    },
    "tags": []
   },
   "outputs": [
    {
     "data": {
      "text/plain": [
       "['Ticket', 'Cabin']"
      ]
     },
     "execution_count": 30,
     "metadata": {},
     "output_type": "execute_result"
    }
   ],
   "source": [
    "Label_test_data = [col for col in test_data.columns if (test_data[col].dtypes == 'object' and test_data[col].nunique() > 10)]\n",
    "Label_test_data"
   ]
  },
  {
   "cell_type": "code",
   "execution_count": 31,
   "id": "30dfa940",
   "metadata": {
    "execution": {
     "iopub.execute_input": "2022-11-03T15:03:15.001789Z",
     "iopub.status.busy": "2022-11-03T15:03:15.000653Z",
     "iopub.status.idle": "2022-11-03T15:03:15.008967Z",
     "shell.execute_reply": "2022-11-03T15:03:15.007942Z"
    },
    "papermill": {
     "duration": 0.026296,
     "end_time": "2022-11-03T15:03:15.011327",
     "exception": false,
     "start_time": "2022-11-03T15:03:14.985031",
     "status": "completed"
    },
    "tags": []
   },
   "outputs": [
    {
     "data": {
      "text/plain": [
       "['Sex', 'Embarked']"
      ]
     },
     "execution_count": 31,
     "metadata": {},
     "output_type": "execute_result"
    }
   ],
   "source": [
    "OneHot_test_data = [col for col in test_data.columns if (test_data[col].dtypes == 'object' and test_data[col].nunique() <= 10)]\n",
    "OneHot_test_data"
   ]
  },
  {
   "cell_type": "code",
   "execution_count": 32,
   "id": "a5cbcd32",
   "metadata": {
    "execution": {
     "iopub.execute_input": "2022-11-03T15:03:15.041794Z",
     "iopub.status.busy": "2022-11-03T15:03:15.041347Z",
     "iopub.status.idle": "2022-11-03T15:03:15.050993Z",
     "shell.execute_reply": "2022-11-03T15:03:15.049854Z"
    },
    "papermill": {
     "duration": 0.027435,
     "end_time": "2022-11-03T15:03:15.053094",
     "exception": false,
     "start_time": "2022-11-03T15:03:15.025659",
     "status": "completed"
    },
    "tags": []
   },
   "outputs": [],
   "source": [
    "L1 = test_data[Label_test_data] = test_data[Label_test_data].apply(LabelEncoder().fit_transform)\n",
    "L1 = np.array(L1)"
   ]
  },
  {
   "cell_type": "code",
   "execution_count": 33,
   "id": "c44002f8",
   "metadata": {
    "execution": {
     "iopub.execute_input": "2022-11-03T15:03:15.084124Z",
     "iopub.status.busy": "2022-11-03T15:03:15.082869Z",
     "iopub.status.idle": "2022-11-03T15:03:15.090687Z",
     "shell.execute_reply": "2022-11-03T15:03:15.089464Z"
    },
    "papermill": {
     "duration": 0.02553,
     "end_time": "2022-11-03T15:03:15.092883",
     "exception": false,
     "start_time": "2022-11-03T15:03:15.067353",
     "status": "completed"
    },
    "tags": []
   },
   "outputs": [
    {
     "data": {
      "text/plain": [
       "(418, 2)"
      ]
     },
     "execution_count": 33,
     "metadata": {},
     "output_type": "execute_result"
    }
   ],
   "source": [
    "L1.shape"
   ]
  },
  {
   "cell_type": "code",
   "execution_count": 34,
   "id": "650202b7",
   "metadata": {
    "execution": {
     "iopub.execute_input": "2022-11-03T15:03:15.124500Z",
     "iopub.status.busy": "2022-11-03T15:03:15.124059Z",
     "iopub.status.idle": "2022-11-03T15:03:15.133910Z",
     "shell.execute_reply": "2022-11-03T15:03:15.132943Z"
    },
    "papermill": {
     "duration": 0.02821,
     "end_time": "2022-11-03T15:03:15.136311",
     "exception": false,
     "start_time": "2022-11-03T15:03:15.108101",
     "status": "completed"
    },
    "tags": []
   },
   "outputs": [],
   "source": [
    "new_test_data = pd.get_dummies(test_data, columns=OneHot_test_data)"
   ]
  },
  {
   "cell_type": "code",
   "execution_count": 35,
   "id": "9ff3766b",
   "metadata": {
    "execution": {
     "iopub.execute_input": "2022-11-03T15:03:15.167066Z",
     "iopub.status.busy": "2022-11-03T15:03:15.166250Z",
     "iopub.status.idle": "2022-11-03T15:03:15.172205Z",
     "shell.execute_reply": "2022-11-03T15:03:15.171335Z"
    },
    "papermill": {
     "duration": 0.023998,
     "end_time": "2022-11-03T15:03:15.174628",
     "exception": false,
     "start_time": "2022-11-03T15:03:15.150630",
     "status": "completed"
    },
    "tags": []
   },
   "outputs": [],
   "source": [
    "X1 = new_test_data.iloc[:, :].values"
   ]
  },
  {
   "cell_type": "code",
   "execution_count": 36,
   "id": "9f08c7ab",
   "metadata": {
    "execution": {
     "iopub.execute_input": "2022-11-03T15:03:15.204969Z",
     "iopub.status.busy": "2022-11-03T15:03:15.204579Z",
     "iopub.status.idle": "2022-11-03T15:03:15.211622Z",
     "shell.execute_reply": "2022-11-03T15:03:15.210423Z"
    },
    "papermill": {
     "duration": 0.024996,
     "end_time": "2022-11-03T15:03:15.214038",
     "exception": false,
     "start_time": "2022-11-03T15:03:15.189042",
     "status": "completed"
    },
    "tags": []
   },
   "outputs": [
    {
     "data": {
      "text/plain": [
       "(418, 12)"
      ]
     },
     "execution_count": 36,
     "metadata": {},
     "output_type": "execute_result"
    }
   ],
   "source": [
    "X1.shape"
   ]
  },
  {
   "cell_type": "code",
   "execution_count": 37,
   "id": "c3233db3",
   "metadata": {
    "execution": {
     "iopub.execute_input": "2022-11-03T15:03:15.245741Z",
     "iopub.status.busy": "2022-11-03T15:03:15.245006Z",
     "iopub.status.idle": "2022-11-03T15:03:15.252893Z",
     "shell.execute_reply": "2022-11-03T15:03:15.251898Z"
    },
    "papermill": {
     "duration": 0.026346,
     "end_time": "2022-11-03T15:03:15.255155",
     "exception": false,
     "start_time": "2022-11-03T15:03:15.228809",
     "status": "completed"
    },
    "tags": []
   },
   "outputs": [
    {
     "data": {
      "text/plain": [
       "array([[  3. ,  34.5,   0. , ...,   0. , 152. ,  15. ],\n",
       "       [  3. ,  47. ,   1. , ...,   1. , 221. ,  15. ],\n",
       "       [  2. ,  62. ,   0. , ...,   0. ,  73. ,  15. ],\n",
       "       ...,\n",
       "       [  3. ,  38.5,   0. , ...,   1. , 346. ,  15. ],\n",
       "       [  3. ,  27. ,   0. , ...,   1. , 220. ,  15. ],\n",
       "       [  3. ,  27. ,   1. , ...,   0. , 105. ,  15. ]])"
      ]
     },
     "execution_count": 37,
     "metadata": {},
     "output_type": "execute_result"
    }
   ],
   "source": [
    "main_test = np.concatenate((X1, L1), axis = 1)\n",
    "main_test"
   ]
  },
  {
   "cell_type": "code",
   "execution_count": 38,
   "id": "3677fa3a",
   "metadata": {
    "execution": {
     "iopub.execute_input": "2022-11-03T15:03:15.287502Z",
     "iopub.status.busy": "2022-11-03T15:03:15.286841Z",
     "iopub.status.idle": "2022-11-03T15:03:15.294744Z",
     "shell.execute_reply": "2022-11-03T15:03:15.293654Z"
    },
    "papermill": {
     "duration": 0.026864,
     "end_time": "2022-11-03T15:03:15.297011",
     "exception": false,
     "start_time": "2022-11-03T15:03:15.270147",
     "status": "completed"
    },
    "tags": []
   },
   "outputs": [
    {
     "data": {
      "text/plain": [
       "array([[  3. ,  34.5,   0. , ...,   0. , 152. ,  15. ],\n",
       "       [  3. ,  47. ,   1. , ...,   1. , 221. ,  15. ],\n",
       "       [  2. ,  62. ,   0. , ...,   0. ,  73. ,  15. ],\n",
       "       ...,\n",
       "       [  3. ,  38.5,   0. , ...,   1. , 346. ,  15. ],\n",
       "       [  3. ,  27. ,   0. , ...,   1. , 220. ,  15. ],\n",
       "       [  3. ,  27. ,   1. , ...,   0. , 105. ,  15. ]])"
      ]
     },
     "execution_count": 38,
     "metadata": {},
     "output_type": "execute_result"
    }
   ],
   "source": [
    "main_test = np.concatenate((X1, L1), axis = 1)\n",
    "main_test"
   ]
  },
  {
   "cell_type": "code",
   "execution_count": 39,
   "id": "7a48ab46",
   "metadata": {
    "execution": {
     "iopub.execute_input": "2022-11-03T15:03:15.328607Z",
     "iopub.status.busy": "2022-11-03T15:03:15.327849Z",
     "iopub.status.idle": "2022-11-03T15:03:15.334852Z",
     "shell.execute_reply": "2022-11-03T15:03:15.333834Z"
    },
    "papermill": {
     "duration": 0.025449,
     "end_time": "2022-11-03T15:03:15.337104",
     "exception": false,
     "start_time": "2022-11-03T15:03:15.311655",
     "status": "completed"
    },
    "tags": []
   },
   "outputs": [
    {
     "data": {
      "text/plain": [
       "(418, 14)"
      ]
     },
     "execution_count": 39,
     "metadata": {},
     "output_type": "execute_result"
    }
   ],
   "source": [
    "main_test.shape"
   ]
  },
  {
   "cell_type": "markdown",
   "id": "a7965767",
   "metadata": {
    "papermill": {
     "duration": 0.014491,
     "end_time": "2022-11-03T15:03:15.366970",
     "exception": false,
     "start_time": "2022-11-03T15:03:15.352479",
     "status": "completed"
    },
    "tags": []
   },
   "source": [
    "# Train model on train data."
   ]
  },
  {
   "cell_type": "code",
   "execution_count": 40,
   "id": "66d3e155",
   "metadata": {
    "execution": {
     "iopub.execute_input": "2022-11-03T15:03:15.399408Z",
     "iopub.status.busy": "2022-11-03T15:03:15.398757Z",
     "iopub.status.idle": "2022-11-03T15:03:15.405306Z",
     "shell.execute_reply": "2022-11-03T15:03:15.404489Z"
    },
    "papermill": {
     "duration": 0.025707,
     "end_time": "2022-11-03T15:03:15.407623",
     "exception": false,
     "start_time": "2022-11-03T15:03:15.381916",
     "status": "completed"
    },
    "tags": []
   },
   "outputs": [],
   "source": [
    "from sklearn.preprocessing import StandardScaler\n",
    "sc = StandardScaler()\n",
    "main_train = sc.fit_transform(main_train)\n",
    "main_test = sc.transform(main_test)"
   ]
  },
  {
   "cell_type": "code",
   "execution_count": 41,
   "id": "0e7f4930",
   "metadata": {
    "execution": {
     "iopub.execute_input": "2022-11-03T15:03:15.439665Z",
     "iopub.status.busy": "2022-11-03T15:03:15.439004Z",
     "iopub.status.idle": "2022-11-03T15:03:17.917425Z",
     "shell.execute_reply": "2022-11-03T15:03:17.916086Z"
    },
    "papermill": {
     "duration": 2.497794,
     "end_time": "2022-11-03T15:03:17.920117",
     "exception": false,
     "start_time": "2022-11-03T15:03:15.422323",
     "status": "completed"
    },
    "tags": []
   },
   "outputs": [
    {
     "data": {
      "text/plain": [
       "RandomForestClassifier(criterion='entropy', n_estimators=1000, random_state=0)"
      ]
     },
     "execution_count": 41,
     "metadata": {},
     "output_type": "execute_result"
    }
   ],
   "source": [
    "from sklearn.ensemble import RandomForestClassifier\n",
    "classifier = RandomForestClassifier(n_estimators=1000, criterion='entropy', random_state=0)\n",
    "classifier.fit(main_train, y)"
   ]
  },
  {
   "cell_type": "code",
   "execution_count": 42,
   "id": "38dfe5bd",
   "metadata": {
    "execution": {
     "iopub.execute_input": "2022-11-03T15:03:17.951623Z",
     "iopub.status.busy": "2022-11-03T15:03:17.951174Z",
     "iopub.status.idle": "2022-11-03T15:03:18.147890Z",
     "shell.execute_reply": "2022-11-03T15:03:18.146771Z"
    },
    "papermill": {
     "duration": 0.215336,
     "end_time": "2022-11-03T15:03:18.150412",
     "exception": false,
     "start_time": "2022-11-03T15:03:17.935076",
     "status": "completed"
    },
    "tags": []
   },
   "outputs": [
    {
     "data": {
      "text/plain": [
       "(418,)"
      ]
     },
     "execution_count": 42,
     "metadata": {},
     "output_type": "execute_result"
    }
   ],
   "source": [
    "y_pred = classifier.predict(main_test)\n",
    "y_pred.shape"
   ]
  },
  {
   "cell_type": "code",
   "execution_count": 43,
   "id": "6021461e",
   "metadata": {
    "execution": {
     "iopub.execute_input": "2022-11-03T15:03:18.182796Z",
     "iopub.status.busy": "2022-11-03T15:03:18.182391Z",
     "iopub.status.idle": "2022-11-03T15:03:18.190998Z",
     "shell.execute_reply": "2022-11-03T15:03:18.190156Z"
    },
    "papermill": {
     "duration": 0.027402,
     "end_time": "2022-11-03T15:03:18.193031",
     "exception": false,
     "start_time": "2022-11-03T15:03:18.165629",
     "status": "completed"
    },
    "tags": []
   },
   "outputs": [],
   "source": [
    "output = pd.DataFrame({'PassengerId' : Pass, 'Survived' : y_pred})\n",
    "output.to_csv('submission.csv', index = False)"
   ]
  }
 ],
 "metadata": {
  "kernelspec": {
   "display_name": "Python 3",
   "language": "python",
   "name": "python3"
  },
  "language_info": {
   "codemirror_mode": {
    "name": "ipython",
    "version": 3
   },
   "file_extension": ".py",
   "mimetype": "text/x-python",
   "name": "python",
   "nbconvert_exporter": "python",
   "pygments_lexer": "ipython3",
   "version": "3.7.12"
  },
  "papermill": {
   "default_parameters": {},
   "duration": 16.455667,
   "end_time": "2022-11-03T15:03:19.030484",
   "environment_variables": {},
   "exception": null,
   "input_path": "__notebook__.ipynb",
   "output_path": "__notebook__.ipynb",
   "parameters": {},
   "start_time": "2022-11-03T15:03:02.574817",
   "version": "2.3.4"
  }
 },
 "nbformat": 4,
 "nbformat_minor": 5
}
